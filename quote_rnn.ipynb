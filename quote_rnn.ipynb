{
  "cells": [
    {
      "cell_type": "markdown",
      "metadata": {
        "id": "VKHzQJKp-FJr"
      },
      "source": [
        "# Automated Extraction of Quotations From Text - Hyperparameter Tuning"
      ]
    },
    {
      "cell_type": "markdown",
      "metadata": {
        "id": "r6iC5eRP-dSB"
      },
      "source": [
        "The purpose is to tune the hyperparameters of the RNN model by doing a Random Search for the  parameters to produce the best results. The model is then retrained using the best parameters and saved for deployment later."
      ]
    },
    {
      "cell_type": "markdown",
      "metadata": {
        "id": "SPT9A_eBNL3W"
      },
      "source": [
        "## Prepare Data"
      ]
    },
    {
      "cell_type": "markdown",
      "metadata": {
        "id": "QCABqZAWJUZs"
      },
      "source": [
        "### Load Libraries"
      ]
    },
    {
      "cell_type": "code",
      "source": [
        "!pip install --quiet keras-tuner"
      ],
      "metadata": {
        "id": "qQKmVOngSs-8"
      },
      "execution_count": null,
      "outputs": []
    },
    {
      "cell_type": "code",
      "execution_count": null,
      "metadata": {
        "id": "1TBkSAY68z9U"
      },
      "outputs": [],
      "source": [
        "import pandas as pd\n",
        "import numpy as np\n",
        "\n",
        "# import sklearn\n",
        "from sklearn.model_selection import train_test_split\n",
        "# from sklearn.feature_extraction.text import CountVectorizer, TfidfVectorizer\n",
        "# from sklearn.linear_model import LogisticRegression, SGDClassifier\n",
        "# from sklearn.pipeline import Pipeline\n",
        "from sklearn.metrics import accuracy_score, confusion_matrix\n",
        "# from sklearn.preprocessing import LabelBinarizer\n",
        "\n",
        "import tensorflow as tf\n",
        "from tensorflow.keras import preprocessing as kprocessing\n",
        "from tensorflow.keras import models, layers, optimizers\n",
        "import tensorflow.keras.backend as K\n",
        "from tensorflow.keras.utils import plot_model\n",
        "from tensorflow.keras.models import load_model, Sequential\n",
        "\n",
        "import matplotlib\n",
        "from matplotlib import pyplot as plt\n",
        "import seaborn as sns\n",
        "\n",
        "import re\n",
        "import nltk\n",
        "import gensim\n",
        "import gensim.downloader as api\n",
        "\n",
        "from datetime import datetime\n",
        "import pickle\n",
        "\n",
        "from kerastuner.tuners import RandomSearch"
      ]
    },
    {
      "cell_type": "code",
      "source": [
        "# from google.colab import files"
      ],
      "metadata": {
        "id": "oooqTBwlEWT9"
      },
      "execution_count": null,
      "outputs": []
    },
    {
      "cell_type": "code",
      "execution_count": null,
      "metadata": {
        "colab": {
          "base_uri": "https://localhost:8080/"
        },
        "id": "22C-Qdct_Ptn",
        "outputId": "25f48924-6819-4afa-83e1-b3eb15827973"
      },
      "outputs": [
        {
          "output_type": "stream",
          "name": "stderr",
          "text": [
            "[nltk_data] Downloading package stopwords to /root/nltk_data...\n",
            "[nltk_data]   Package stopwords is already up-to-date!\n",
            "[nltk_data] Downloading package wordnet to /root/nltk_data...\n",
            "[nltk_data]   Package wordnet is already up-to-date!\n",
            "[nltk_data] Downloading package omw-1.4 to /root/nltk_data...\n",
            "[nltk_data]   Package omw-1.4 is already up-to-date!\n"
          ]
        },
        {
          "output_type": "execute_result",
          "data": {
            "text/plain": [
              "True"
            ]
          },
          "metadata": {},
          "execution_count": 159
        }
      ],
      "source": [
        "nltk.download('stopwords')\n",
        "nltk.download('wordnet')\n",
        "nltk.download('omw-1.4')"
      ]
    },
    {
      "cell_type": "markdown",
      "metadata": {
        "id": "Q3NuN5DhJeYZ"
      },
      "source": [
        "### Load Data"
      ]
    },
    {
      "cell_type": "code",
      "execution_count": null,
      "metadata": {
        "id": "DVd__f2Me2tA"
      },
      "outputs": [],
      "source": [
        "df = pd.read_csv('quotes-prepared-40000.csv')"
      ]
    },
    {
      "cell_type": "code",
      "execution_count": null,
      "metadata": {
        "colab": {
          "base_uri": "https://localhost:8080/",
          "height": 206
        },
        "id": "-fq_tJze-k1F",
        "outputId": "5c82815a-3632-43a6-c1e6-f4d6d3cbb5d4"
      },
      "outputs": [
        {
          "output_type": "execute_result",
          "data": {
            "text/plain": [
              "   category                                               text\n",
              "0         1         Color is an intense experience on its own.\n",
              "1         1  God takes great joy in the passionate romantic...\n",
              "2         1  No jealousy their dawn of love overcast, nor b...\n",
              "3         0  The sound mockery of sheep is like the salubri...\n",
              "4         1  Players have two things to do: Play and keep t..."
            ],
            "text/html": [
              "\n",
              "  <div id=\"df-d9ae268e-9ac3-444e-bcc2-8685fba0f902\">\n",
              "    <div class=\"colab-df-container\">\n",
              "      <div>\n",
              "<style scoped>\n",
              "    .dataframe tbody tr th:only-of-type {\n",
              "        vertical-align: middle;\n",
              "    }\n",
              "\n",
              "    .dataframe tbody tr th {\n",
              "        vertical-align: top;\n",
              "    }\n",
              "\n",
              "    .dataframe thead th {\n",
              "        text-align: right;\n",
              "    }\n",
              "</style>\n",
              "<table border=\"1\" class=\"dataframe\">\n",
              "  <thead>\n",
              "    <tr style=\"text-align: right;\">\n",
              "      <th></th>\n",
              "      <th>category</th>\n",
              "      <th>text</th>\n",
              "    </tr>\n",
              "  </thead>\n",
              "  <tbody>\n",
              "    <tr>\n",
              "      <th>0</th>\n",
              "      <td>1</td>\n",
              "      <td>Color is an intense experience on its own.</td>\n",
              "    </tr>\n",
              "    <tr>\n",
              "      <th>1</th>\n",
              "      <td>1</td>\n",
              "      <td>God takes great joy in the passionate romantic...</td>\n",
              "    </tr>\n",
              "    <tr>\n",
              "      <th>2</th>\n",
              "      <td>1</td>\n",
              "      <td>No jealousy their dawn of love overcast, nor b...</td>\n",
              "    </tr>\n",
              "    <tr>\n",
              "      <th>3</th>\n",
              "      <td>0</td>\n",
              "      <td>The sound mockery of sheep is like the salubri...</td>\n",
              "    </tr>\n",
              "    <tr>\n",
              "      <th>4</th>\n",
              "      <td>1</td>\n",
              "      <td>Players have two things to do: Play and keep t...</td>\n",
              "    </tr>\n",
              "  </tbody>\n",
              "</table>\n",
              "</div>\n",
              "      <button class=\"colab-df-convert\" onclick=\"convertToInteractive('df-d9ae268e-9ac3-444e-bcc2-8685fba0f902')\"\n",
              "              title=\"Convert this dataframe to an interactive table.\"\n",
              "              style=\"display:none;\">\n",
              "        \n",
              "  <svg xmlns=\"http://www.w3.org/2000/svg\" height=\"24px\"viewBox=\"0 0 24 24\"\n",
              "       width=\"24px\">\n",
              "    <path d=\"M0 0h24v24H0V0z\" fill=\"none\"/>\n",
              "    <path d=\"M18.56 5.44l.94 2.06.94-2.06 2.06-.94-2.06-.94-.94-2.06-.94 2.06-2.06.94zm-11 1L8.5 8.5l.94-2.06 2.06-.94-2.06-.94L8.5 2.5l-.94 2.06-2.06.94zm10 10l.94 2.06.94-2.06 2.06-.94-2.06-.94-.94-2.06-.94 2.06-2.06.94z\"/><path d=\"M17.41 7.96l-1.37-1.37c-.4-.4-.92-.59-1.43-.59-.52 0-1.04.2-1.43.59L10.3 9.45l-7.72 7.72c-.78.78-.78 2.05 0 2.83L4 21.41c.39.39.9.59 1.41.59.51 0 1.02-.2 1.41-.59l7.78-7.78 2.81-2.81c.8-.78.8-2.07 0-2.86zM5.41 20L4 18.59l7.72-7.72 1.47 1.35L5.41 20z\"/>\n",
              "  </svg>\n",
              "      </button>\n",
              "      \n",
              "  <style>\n",
              "    .colab-df-container {\n",
              "      display:flex;\n",
              "      flex-wrap:wrap;\n",
              "      gap: 12px;\n",
              "    }\n",
              "\n",
              "    .colab-df-convert {\n",
              "      background-color: #E8F0FE;\n",
              "      border: none;\n",
              "      border-radius: 50%;\n",
              "      cursor: pointer;\n",
              "      display: none;\n",
              "      fill: #1967D2;\n",
              "      height: 32px;\n",
              "      padding: 0 0 0 0;\n",
              "      width: 32px;\n",
              "    }\n",
              "\n",
              "    .colab-df-convert:hover {\n",
              "      background-color: #E2EBFA;\n",
              "      box-shadow: 0px 1px 2px rgba(60, 64, 67, 0.3), 0px 1px 3px 1px rgba(60, 64, 67, 0.15);\n",
              "      fill: #174EA6;\n",
              "    }\n",
              "\n",
              "    [theme=dark] .colab-df-convert {\n",
              "      background-color: #3B4455;\n",
              "      fill: #D2E3FC;\n",
              "    }\n",
              "\n",
              "    [theme=dark] .colab-df-convert:hover {\n",
              "      background-color: #434B5C;\n",
              "      box-shadow: 0px 1px 3px 1px rgba(0, 0, 0, 0.15);\n",
              "      filter: drop-shadow(0px 1px 2px rgba(0, 0, 0, 0.3));\n",
              "      fill: #FFFFFF;\n",
              "    }\n",
              "  </style>\n",
              "\n",
              "      <script>\n",
              "        const buttonEl =\n",
              "          document.querySelector('#df-d9ae268e-9ac3-444e-bcc2-8685fba0f902 button.colab-df-convert');\n",
              "        buttonEl.style.display =\n",
              "          google.colab.kernel.accessAllowed ? 'block' : 'none';\n",
              "\n",
              "        async function convertToInteractive(key) {\n",
              "          const element = document.querySelector('#df-d9ae268e-9ac3-444e-bcc2-8685fba0f902');\n",
              "          const dataTable =\n",
              "            await google.colab.kernel.invokeFunction('convertToInteractive',\n",
              "                                                     [key], {});\n",
              "          if (!dataTable) return;\n",
              "\n",
              "          const docLinkHtml = 'Like what you see? Visit the ' +\n",
              "            '<a target=\"_blank\" href=https://colab.research.google.com/notebooks/data_table.ipynb>data table notebook</a>'\n",
              "            + ' to learn more about interactive tables.';\n",
              "          element.innerHTML = '';\n",
              "          dataTable['output_type'] = 'display_data';\n",
              "          await google.colab.output.renderOutput(dataTable, element);\n",
              "          const docLink = document.createElement('div');\n",
              "          docLink.innerHTML = docLinkHtml;\n",
              "          element.appendChild(docLink);\n",
              "        }\n",
              "      </script>\n",
              "    </div>\n",
              "  </div>\n",
              "  "
            ]
          },
          "metadata": {},
          "execution_count": 161
        }
      ],
      "source": [
        "df.rename(columns={\"quote\": \"category\"}, inplace=True)\n",
        "df = df[[\"category\", \"text\"]]\n",
        "\n",
        "# Show the data\n",
        "df.head()"
      ]
    },
    {
      "cell_type": "markdown",
      "metadata": {
        "id": "QSWo2Wfgcp-0"
      },
      "source": [
        "### Proprocess Data"
      ]
    },
    {
      "cell_type": "code",
      "execution_count": null,
      "metadata": {
        "id": "6Xp7QlEq-2qm"
      },
      "outputs": [],
      "source": [
        "# Use stopwords list from nltk (that is used in the function below)\n",
        "lst_stopwords = nltk.corpus.stopwords.words(\"english\")\n",
        "\n",
        "def utils_preprocess_text(text, flg_stemm=False, flg_lemm=True, lst_stopwords=None):\n",
        "    # Clean (convert to lowercase and remove punctuations and characters and then strip)\n",
        "    # The function is not optimized for speed but split into various steps for pedagogical purpose\n",
        "    text = str(text).lower()\n",
        "    text = text.strip()\n",
        "    text = re.sub(r'[^\\w\\s]', '', text)\n",
        "\n",
        "    # Tokenize (convert from string to list)\n",
        "    lst_text = text.split()\n",
        "    # remove Stopwords\n",
        "    if lst_stopwords is not None:\n",
        "        lst_text = [word for word in lst_text if word not in lst_stopwords]\n",
        "\n",
        "    # Stemming (remove -ing, -ly, ...)\n",
        "    if flg_stemm == True:\n",
        "        ps = nltk.stem.porter.PorterStemmer()\n",
        "        lst_text = [ps.stem(word) for word in lst_text]\n",
        "\n",
        "    # Lemmatisation (convert the word into root word)\n",
        "    if flg_lemm == True:\n",
        "        lem = nltk.stem.wordnet.WordNetLemmatizer()\n",
        "        lst_text = [lem.lemmatize(word) for word in lst_text]\n",
        "\n",
        "    # back to string from list\n",
        "    text = \" \".join(lst_text)\n",
        "    return text"
      ]
    },
    {
      "cell_type": "code",
      "execution_count": null,
      "metadata": {
        "colab": {
          "base_uri": "https://localhost:8080/",
          "height": 206
        },
        "id": "urBX5ZYV_Toa",
        "outputId": "d7a6c9d5-058c-4038-f956-374fe921b0b1"
      },
      "outputs": [
        {
          "output_type": "execute_result",
          "data": {
            "text/plain": [
              "   category                                               text  \\\n",
              "0         1         Color is an intense experience on its own.   \n",
              "1         1  God takes great joy in the passionate romantic...   \n",
              "2         1  No jealousy their dawn of love overcast, nor b...   \n",
              "3         0  The sound mockery of sheep is like the salubri...   \n",
              "4         1  Players have two things to do: Play and keep t...   \n",
              "\n",
              "                                          text_clean  \n",
              "0                           color intense experience  \n",
              "1  god take great joy passionate romantic love hu...  \n",
              "2  jealousy dawn love overcast blasted wedded day...  \n",
              "3    sound mockery sheep like salubrious horse laugh  \n",
              "4              player two thing play keep mouth shut  "
            ],
            "text/html": [
              "\n",
              "  <div id=\"df-4aa2f9fb-4ccb-4454-a1e7-5ce584809668\">\n",
              "    <div class=\"colab-df-container\">\n",
              "      <div>\n",
              "<style scoped>\n",
              "    .dataframe tbody tr th:only-of-type {\n",
              "        vertical-align: middle;\n",
              "    }\n",
              "\n",
              "    .dataframe tbody tr th {\n",
              "        vertical-align: top;\n",
              "    }\n",
              "\n",
              "    .dataframe thead th {\n",
              "        text-align: right;\n",
              "    }\n",
              "</style>\n",
              "<table border=\"1\" class=\"dataframe\">\n",
              "  <thead>\n",
              "    <tr style=\"text-align: right;\">\n",
              "      <th></th>\n",
              "      <th>category</th>\n",
              "      <th>text</th>\n",
              "      <th>text_clean</th>\n",
              "    </tr>\n",
              "  </thead>\n",
              "  <tbody>\n",
              "    <tr>\n",
              "      <th>0</th>\n",
              "      <td>1</td>\n",
              "      <td>Color is an intense experience on its own.</td>\n",
              "      <td>color intense experience</td>\n",
              "    </tr>\n",
              "    <tr>\n",
              "      <th>1</th>\n",
              "      <td>1</td>\n",
              "      <td>God takes great joy in the passionate romantic...</td>\n",
              "      <td>god take great joy passionate romantic love hu...</td>\n",
              "    </tr>\n",
              "    <tr>\n",
              "      <th>2</th>\n",
              "      <td>1</td>\n",
              "      <td>No jealousy their dawn of love overcast, nor b...</td>\n",
              "      <td>jealousy dawn love overcast blasted wedded day...</td>\n",
              "    </tr>\n",
              "    <tr>\n",
              "      <th>3</th>\n",
              "      <td>0</td>\n",
              "      <td>The sound mockery of sheep is like the salubri...</td>\n",
              "      <td>sound mockery sheep like salubrious horse laugh</td>\n",
              "    </tr>\n",
              "    <tr>\n",
              "      <th>4</th>\n",
              "      <td>1</td>\n",
              "      <td>Players have two things to do: Play and keep t...</td>\n",
              "      <td>player two thing play keep mouth shut</td>\n",
              "    </tr>\n",
              "  </tbody>\n",
              "</table>\n",
              "</div>\n",
              "      <button class=\"colab-df-convert\" onclick=\"convertToInteractive('df-4aa2f9fb-4ccb-4454-a1e7-5ce584809668')\"\n",
              "              title=\"Convert this dataframe to an interactive table.\"\n",
              "              style=\"display:none;\">\n",
              "        \n",
              "  <svg xmlns=\"http://www.w3.org/2000/svg\" height=\"24px\"viewBox=\"0 0 24 24\"\n",
              "       width=\"24px\">\n",
              "    <path d=\"M0 0h24v24H0V0z\" fill=\"none\"/>\n",
              "    <path d=\"M18.56 5.44l.94 2.06.94-2.06 2.06-.94-2.06-.94-.94-2.06-.94 2.06-2.06.94zm-11 1L8.5 8.5l.94-2.06 2.06-.94-2.06-.94L8.5 2.5l-.94 2.06-2.06.94zm10 10l.94 2.06.94-2.06 2.06-.94-2.06-.94-.94-2.06-.94 2.06-2.06.94z\"/><path d=\"M17.41 7.96l-1.37-1.37c-.4-.4-.92-.59-1.43-.59-.52 0-1.04.2-1.43.59L10.3 9.45l-7.72 7.72c-.78.78-.78 2.05 0 2.83L4 21.41c.39.39.9.59 1.41.59.51 0 1.02-.2 1.41-.59l7.78-7.78 2.81-2.81c.8-.78.8-2.07 0-2.86zM5.41 20L4 18.59l7.72-7.72 1.47 1.35L5.41 20z\"/>\n",
              "  </svg>\n",
              "      </button>\n",
              "      \n",
              "  <style>\n",
              "    .colab-df-container {\n",
              "      display:flex;\n",
              "      flex-wrap:wrap;\n",
              "      gap: 12px;\n",
              "    }\n",
              "\n",
              "    .colab-df-convert {\n",
              "      background-color: #E8F0FE;\n",
              "      border: none;\n",
              "      border-radius: 50%;\n",
              "      cursor: pointer;\n",
              "      display: none;\n",
              "      fill: #1967D2;\n",
              "      height: 32px;\n",
              "      padding: 0 0 0 0;\n",
              "      width: 32px;\n",
              "    }\n",
              "\n",
              "    .colab-df-convert:hover {\n",
              "      background-color: #E2EBFA;\n",
              "      box-shadow: 0px 1px 2px rgba(60, 64, 67, 0.3), 0px 1px 3px 1px rgba(60, 64, 67, 0.15);\n",
              "      fill: #174EA6;\n",
              "    }\n",
              "\n",
              "    [theme=dark] .colab-df-convert {\n",
              "      background-color: #3B4455;\n",
              "      fill: #D2E3FC;\n",
              "    }\n",
              "\n",
              "    [theme=dark] .colab-df-convert:hover {\n",
              "      background-color: #434B5C;\n",
              "      box-shadow: 0px 1px 3px 1px rgba(0, 0, 0, 0.15);\n",
              "      filter: drop-shadow(0px 1px 2px rgba(0, 0, 0, 0.3));\n",
              "      fill: #FFFFFF;\n",
              "    }\n",
              "  </style>\n",
              "\n",
              "      <script>\n",
              "        const buttonEl =\n",
              "          document.querySelector('#df-4aa2f9fb-4ccb-4454-a1e7-5ce584809668 button.colab-df-convert');\n",
              "        buttonEl.style.display =\n",
              "          google.colab.kernel.accessAllowed ? 'block' : 'none';\n",
              "\n",
              "        async function convertToInteractive(key) {\n",
              "          const element = document.querySelector('#df-4aa2f9fb-4ccb-4454-a1e7-5ce584809668');\n",
              "          const dataTable =\n",
              "            await google.colab.kernel.invokeFunction('convertToInteractive',\n",
              "                                                     [key], {});\n",
              "          if (!dataTable) return;\n",
              "\n",
              "          const docLinkHtml = 'Like what you see? Visit the ' +\n",
              "            '<a target=\"_blank\" href=https://colab.research.google.com/notebooks/data_table.ipynb>data table notebook</a>'\n",
              "            + ' to learn more about interactive tables.';\n",
              "          element.innerHTML = '';\n",
              "          dataTable['output_type'] = 'display_data';\n",
              "          await google.colab.output.renderOutput(dataTable, element);\n",
              "          const docLink = document.createElement('div');\n",
              "          docLink.innerHTML = docLinkHtml;\n",
              "          element.appendChild(docLink);\n",
              "        }\n",
              "      </script>\n",
              "    </div>\n",
              "  </div>\n",
              "  "
            ]
          },
          "metadata": {},
          "execution_count": 163
        }
      ],
      "source": [
        "# Let's apply this function to the whole corpus\n",
        "df[\"text_clean\"] = df[\"text\"].apply(lambda x: utils_preprocess_text(x, flg_stemm=False, flg_lemm=True, lst_stopwords=lst_stopwords))\n",
        "\n",
        "# Let's look at the output\n",
        "df.head()"
      ]
    },
    {
      "cell_type": "markdown",
      "metadata": {
        "id": "mSeIm99HNaDv"
      },
      "source": [
        "### Test Data"
      ]
    },
    {
      "cell_type": "code",
      "execution_count": null,
      "metadata": {
        "id": "74SStZIZNZAN"
      },
      "outputs": [],
      "source": [
        "text_test = [\n",
        "  'A journey of a thousand miles begins with a single step.',\n",
        "  'Are you beginning a journey of a thousand steps tomorrow?',\n",
        "  'The Post cited people familiar with the investigation as saying that federal agents were looking for classified documents related to nuclear weapons',\n",
        "  'But it turns out that Trump did take such material from the White House.',\n",
        "  'No one will reap except what they sow.'\n",
        "]\n",
        "\n",
        "truth_test = [1, 0, 0, 0, 1]"
      ]
    },
    {
      "cell_type": "markdown",
      "metadata": {
        "id": "PxFSHoEDymP3"
      },
      "source": [
        "### Functions"
      ]
    },
    {
      "cell_type": "code",
      "execution_count": null,
      "metadata": {
        "id": "Epy8-Abhygcy"
      },
      "outputs": [],
      "source": [
        "def sns_cm(cm, score):\n",
        "  plt.figure(figsize=(9,9))\n",
        "  sns.heatmap(cm, annot=True, fmt=\".3f\", linewidths=.5, square = True, cmap = 'Blues_r');\n",
        "  plt.ylabel('Actual label');\n",
        "  plt.xlabel('Predicted label');\n",
        "  all_sample_title = 'Accuracy Score: {0}'.format(score)\n",
        "  plt.title(all_sample_title, size = 15);"
      ]
    },
    {
      "cell_type": "code",
      "execution_count": null,
      "metadata": {
        "id": "K9f1QmxDyqYJ"
      },
      "outputs": [],
      "source": [
        "def precision_m(y_true, y_pred):\n",
        "  true_positives = K.sum(K.round(K.clip(y_true * y_pred, 0, 1)))\n",
        "  predicted_positives = K.sum(K.round(K.clip(y_pred, 0, 1)))\n",
        "  precision = true_positives / (predicted_positives + K.epsilon())\n",
        "  return precision"
      ]
    },
    {
      "cell_type": "code",
      "execution_count": null,
      "metadata": {
        "id": "OGN9_IfCytjq"
      },
      "outputs": [],
      "source": [
        "def recall_m(y_true, y_pred):\n",
        "  true_positives = K.sum(K.round(K.clip(y_true * y_pred, 0, 1)))\n",
        "  possible_positives = K.sum(K.round(K.clip(y_true, 0, 1)))\n",
        "  recall = true_positives / (possible_positives + K.epsilon())\n",
        "  return recall"
      ]
    },
    {
      "cell_type": "markdown",
      "metadata": {
        "id": "YfOgGoc6dVqn"
      },
      "source": [
        "## RNN Model"
      ]
    },
    {
      "cell_type": "markdown",
      "metadata": {
        "id": "WUdFSdcFdZep"
      },
      "source": [
        "### Split Data"
      ]
    },
    {
      "cell_type": "code",
      "execution_count": null,
      "metadata": {
        "id": "THPuyR1ZADzz"
      },
      "outputs": [],
      "source": [
        "X_tf = df['text']\n",
        "y_tf = df['category']\n",
        "\n",
        "X_tf_train, X_tf_test, y_tf_train, y_tf_test = train_test_split(X_tf, y_tf, test_size=0.3, random_state=42, stratify=df['category'])"
      ]
    },
    {
      "cell_type": "code",
      "execution_count": null,
      "metadata": {
        "id": "9DE9S8JEANW_"
      },
      "outputs": [],
      "source": [
        "corpus = X_tf_train\n",
        "max_words = 30000\n",
        "tokenizer = kprocessing.text.Tokenizer(lower=True, split=' ', num_words=max_words, oov_token=\"<pad>\", filters='!\"#$%&()*+,-./:;<=>?@[\\\\]^_`{|}~\\t\\n')\n",
        "tokenizer.fit_on_texts(corpus)\n",
        "voc = tokenizer.word_index\n",
        "reverse_voc = dict([(value, key) for (key, value) in voc.items()])"
      ]
    },
    {
      "cell_type": "markdown",
      "metadata": {
        "id": "m7CKgB1Ndco6"
      },
      "source": [
        "### Explore Data"
      ]
    },
    {
      "cell_type": "code",
      "execution_count": null,
      "metadata": {
        "colab": {
          "base_uri": "https://localhost:8080/"
        },
        "id": "H-6OpaVFAQsL",
        "outputId": "2df5fc35-90ca-4174-db15-209344d05d70"
      },
      "outputs": [
        {
          "output_type": "stream",
          "name": "stdout",
          "text": [
            "Shape:  (20720, 200)\n",
            "----------------------------------------------------------------------------------------------------\n",
            "Example:  [   0    0    0    0    0    0    0    0    0    0    0    0    0    0\n",
            "    0    0    0    0    0    0    0    0    0    0    0    0    0    0\n",
            "    0    0    0    0    0    0    0    0    0    0    0    0    0    0\n",
            "    0    0    0    0    0    0    0    0    0    0    0    0    0    0\n",
            "    0    0    0    0    0    0    0    0    0    0    0    0    0    0\n",
            "    0    0    0    0    0    0    0    0    0    0    0    0    0    0\n",
            "    0    0    0    0    0    0    0    0    0    0    0    0    0    0\n",
            "    0    0    0    0    0    0    0    0    0    0    0    0    0    0\n",
            "    0    0    0    0    0    0    0    0    0    0    0    0    0    0\n",
            "    0    0    0    0    0    0    0    0    0    0    0    0    0    0\n",
            "    0    0    0    0    0    0    0    0    0    0    0    0    0    0\n",
            "    0    0    0    0    0    0    0    0    0    0    0    0    0    0\n",
            "    0    0    0    0    0    0    0    0    0    0    0    0    0    0\n",
            "    0    0    0    0    0    0    0    0    0    0    0    0    0    0\n",
            "    0 2423   18  179]\n"
          ]
        }
      ],
      "source": [
        "max_len = 200\n",
        "\n",
        "sequences = tokenizer.texts_to_sequences(X_tf_train)\n",
        "X_tf_train_seq = kprocessing.sequence.pad_sequences(sequences, maxlen=max_len)\n",
        "\n",
        "X_tf_test_seq = kprocessing.sequence.pad_sequences(tokenizer.texts_to_sequences(X_tf_test), maxlen=max_len)\n",
        "\n",
        "n = 10\n",
        "print('Shape: ',X_tf_train_seq.shape)\n",
        "print(100*'-')\n",
        "print('Example: ',X_tf_train_seq[n,:])"
      ]
    },
    {
      "cell_type": "markdown",
      "metadata": {
        "id": "9350Wfv_MOys"
      },
      "source": [
        "### Pretrained Model"
      ]
    },
    {
      "cell_type": "code",
      "execution_count": null,
      "metadata": {
        "colab": {
          "base_uri": "https://localhost:8080/"
        },
        "id": "y2GuknWNASyf",
        "outputId": "134c389e-3651-48fd-da0f-1ff17c12a35d"
      },
      "outputs": [
        {
          "output_type": "execute_result",
          "data": {
            "text/plain": [
              "(300,)"
            ]
          },
          "metadata": {},
          "execution_count": 171
        }
      ],
      "source": [
        "w2v = api.load(\"word2vec-google-news-300\")\n",
        "w2v['example'].shape"
      ]
    },
    {
      "cell_type": "code",
      "execution_count": null,
      "metadata": {
        "id": "xR-8gVn54LUf"
      },
      "outputs": [],
      "source": [
        "assert max_words >= len(reverse_voc)"
      ]
    },
    {
      "cell_type": "code",
      "execution_count": null,
      "metadata": {
        "id": "ZJMRDzoEAWoQ"
      },
      "outputs": [],
      "source": [
        "emb_matrix=np.zeros((max_words+1, 300))\n",
        "\n",
        "for i in range(len(reverse_voc)):\n",
        "    w = reverse_voc[i+1]\n",
        "    if w in w2v:\n",
        "        emb_matrix[i+1,:] = w2v[w]\n",
        "emb_size = emb_matrix.shape[1]"
      ]
    },
    {
      "cell_type": "markdown",
      "source": [
        "## Hyperparameter Tuning"
      ],
      "metadata": {
        "id": "mxh7ntabSs-0"
      }
    },
    {
      "cell_type": "markdown",
      "source": [
        "### Build Model"
      ],
      "metadata": {
        "id": "sGDHrH2CSs-8"
      }
    },
    {
      "cell_type": "code",
      "source": [
        "def model_builder(hp):\n",
        "  model = Sequential()\n",
        "\n",
        "  lstm = hp.Int('lstm', min_value=5, max_value=30, step=5, default=15)\n",
        "  units = hp.Int('units', min_value=32, max_value=128, step=32, default=64)\n",
        "  dropout = hp.Float('dropout', min_value=0.2, max_value=0.8, step=0.1, default=0.5)\n",
        "  \n",
        "  # hp_learning_rate = hp.Choice('learning_rate', values=[0.01, 0.003, 0.001, 0.0003, 0.0001, 0.00003])\n",
        "  learning_rate = 0.01\n",
        "  beta_1 = 0.9\n",
        "\n",
        "  input_ = layers.Input(shape = X_tf_train_seq[0,:].shape,name='input')\n",
        "  x = layers.Embedding(max_words+1,emb_size,weights=[emb_matrix],trainable=False, name='embedding')(input_)\n",
        "  x = layers.Bidirectional(layers.LSTM(lstm, dropout=dropout),name='bidirectional-lstm')(x) # LSTM layer\n",
        "  x = layers.Dropout(dropout, name='dropout')(x)\n",
        "  x = layers.Dense(units, activation='relu', name='dense')(x)\n",
        "  output = layers.Dense(1 ,activation='sigmoid', name='classification')(x)\n",
        "\n",
        "  model = models.Model(input_, output)\n",
        "\n",
        "  opt = optimizers.Adam(learning_rate=learning_rate, beta_1=beta_1)\n",
        "  model.compile(optimizer=opt,loss='binary_crossentropy', metrics=['accuracy', precision_m, recall_m])\n",
        "\n",
        "  return model"
      ],
      "metadata": {
        "id": "X4D8GBm_Ss-8"
      },
      "execution_count": null,
      "outputs": []
    },
    {
      "cell_type": "markdown",
      "source": [
        "### Random Search"
      ],
      "metadata": {
        "id": "ll2EqqDZSs-9"
      }
    },
    {
      "cell_type": "code",
      "source": [
        "RandomSearch?"
      ],
      "metadata": {
        "id": "EjtkgyBTx8w7"
      },
      "execution_count": null,
      "outputs": []
    },
    {
      "cell_type": "code",
      "source": [
        "tuner = RandomSearch(\n",
        "    model_builder,\n",
        "    objective='val_accuracy',\n",
        "    max_trials=10,\n",
        "    executions_per_trial=1,\n",
        "    directory='./randomsearch',\n",
        "    overwrite = True,\n",
        "    project_name='RNN Random Search')"
      ],
      "metadata": {
        "id": "6zMRsQQYSs-9"
      },
      "execution_count": null,
      "outputs": []
    },
    {
      "cell_type": "code",
      "source": [
        "tuner.search_space_summary()"
      ],
      "metadata": {
        "colab": {
          "base_uri": "https://localhost:8080/"
        },
        "outputId": "89645701-a0bc-47d6-d981-1f5164b2be3c",
        "id": "fhLGJtaCSs-9"
      },
      "execution_count": null,
      "outputs": [
        {
          "output_type": "stream",
          "name": "stdout",
          "text": [
            "Search space summary\n",
            "Default search space size: 3\n",
            "lstm (Int)\n",
            "{'default': 15, 'conditions': [], 'min_value': 5, 'max_value': 30, 'step': 5, 'sampling': None}\n",
            "units (Int)\n",
            "{'default': 64, 'conditions': [], 'min_value': 32, 'max_value': 128, 'step': 32, 'sampling': None}\n",
            "dropout (Float)\n",
            "{'default': 0.5, 'conditions': [], 'min_value': 0.2, 'max_value': 0.8, 'step': 0.1, 'sampling': None}\n"
          ]
        }
      ]
    },
    {
      "cell_type": "code",
      "source": [
        "tuner.search(X_tf_train_seq, y_tf_train, batch_size=64, shuffle=True, epochs=10, validation_data = (X_tf_test_seq, y_tf_test))"
      ],
      "metadata": {
        "colab": {
          "base_uri": "https://localhost:8080/"
        },
        "outputId": "ecb3e5cf-069b-431b-9d7a-e60e436f9cac",
        "id": "UI03fMd9Ss-9"
      },
      "execution_count": null,
      "outputs": [
        {
          "output_type": "stream",
          "name": "stdout",
          "text": [
            "Trial 10 Complete [00h 12m 26s]\n",
            "val_accuracy: 0.857207179069519\n",
            "\n",
            "Best val_accuracy So Far: 0.8811936974525452\n",
            "Total elapsed time: 01h 44m 50s\n",
            "Trial 10 Complete [00h 12m 26s]\n",
            "val_accuracy: 0.857207179069519\n",
            "\n",
            "Best val_accuracy So Far: 0.8811936974525452\n",
            "Total elapsed time: 01h 44m 50s\n"
          ]
        }
      ]
    },
    {
      "cell_type": "markdown",
      "source": [
        "### Search Results"
      ],
      "metadata": {
        "id": "Oo8yog1TSs-9"
      }
    },
    {
      "cell_type": "code",
      "source": [
        "# Get the optimal hyperparameters\n",
        "best_hps=tuner.get_best_hyperparameters(num_trials=1)[0]"
      ],
      "metadata": {
        "id": "i5qZRJlzSs-9"
      },
      "execution_count": null,
      "outputs": []
    },
    {
      "cell_type": "code",
      "source": [
        "best_hps.values"
      ],
      "metadata": {
        "id": "PpsIUT7sSs-9",
        "colab": {
          "base_uri": "https://localhost:8080/"
        },
        "outputId": "44b23202-030c-4f45-9159-eeb0adcfa627"
      },
      "execution_count": null,
      "outputs": [
        {
          "output_type": "execute_result",
          "data": {
            "text/plain": [
              "{'lstm': 25, 'units': 64, 'dropout': 0.4000000000000001}"
            ]
          },
          "metadata": {},
          "execution_count": 180
        },
        {
          "output_type": "execute_result",
          "data": {
            "text/plain": [
              "{'lstm': 25, 'units': 64, 'dropout': 0.4000000000000001}"
            ]
          },
          "metadata": {},
          "execution_count": 180
        }
      ]
    },
    {
      "cell_type": "code",
      "source": [
        "tuner.results_summary()"
      ],
      "metadata": {
        "id": "2PUJxtoASs--",
        "colab": {
          "base_uri": "https://localhost:8080/"
        },
        "outputId": "3519a9b7-200d-4988-b99e-62b5ff09b7e4"
      },
      "execution_count": null,
      "outputs": [
        {
          "output_type": "stream",
          "name": "stdout",
          "text": [
            "Results summary\n",
            "Results in ./randomsearch/RNN Random Search\n",
            "Showing 10 best trials\n",
            "<keras_tuner.engine.objective.Objective object at 0x7f33ff88cb10>\n",
            "Trial summary\n",
            "Hyperparameters:\n",
            "lstm: 25\n",
            "units: 64\n",
            "dropout: 0.4000000000000001\n",
            "Score: 0.8811936974525452\n",
            "Trial summary\n",
            "Hyperparameters:\n",
            "lstm: 15\n",
            "units: 96\n",
            "dropout: 0.30000000000000004\n",
            "Score: 0.8773648738861084\n",
            "Trial summary\n",
            "Hyperparameters:\n",
            "lstm: 20\n",
            "units: 32\n",
            "dropout: 0.6000000000000001\n",
            "Score: 0.8752252459526062\n",
            "Trial summary\n",
            "Hyperparameters:\n",
            "lstm: 10\n",
            "units: 96\n",
            "dropout: 0.5000000000000001\n",
            "Score: 0.8745495676994324\n",
            "Trial summary\n",
            "Hyperparameters:\n",
            "lstm: 20\n",
            "units: 96\n",
            "dropout: 0.6000000000000001\n",
            "Score: 0.8724098801612854\n",
            "Trial summary\n",
            "Hyperparameters:\n",
            "lstm: 15\n",
            "units: 64\n",
            "dropout: 0.6000000000000001\n",
            "Score: 0.8697072267532349\n",
            "Trial summary\n",
            "Hyperparameters:\n",
            "lstm: 10\n",
            "units: 96\n",
            "dropout: 0.6000000000000001\n",
            "Score: 0.8692567348480225\n",
            "Trial summary\n",
            "Hyperparameters:\n",
            "lstm: 10\n",
            "units: 32\n",
            "dropout: 0.7000000000000002\n",
            "Score: 0.8626126050949097\n",
            "Trial summary\n",
            "Hyperparameters:\n",
            "lstm: 10\n",
            "units: 64\n",
            "dropout: 0.7000000000000002\n",
            "Score: 0.8587837815284729\n",
            "Trial summary\n",
            "Hyperparameters:\n",
            "lstm: 30\n",
            "units: 64\n",
            "dropout: 0.8000000000000003\n",
            "Score: 0.857207179069519\n",
            "Results summary\n",
            "Results in ./randomsearch/RNN Random Search\n",
            "Showing 10 best trials\n",
            "<keras_tuner.engine.objective.Objective object at 0x7f33ff88cb10>\n",
            "Trial summary\n",
            "Hyperparameters:\n",
            "lstm: 25\n",
            "units: 64\n",
            "dropout: 0.4000000000000001\n",
            "Score: 0.8811936974525452\n",
            "Trial summary\n",
            "Hyperparameters:\n",
            "lstm: 15\n",
            "units: 96\n",
            "dropout: 0.30000000000000004\n",
            "Score: 0.8773648738861084\n",
            "Trial summary\n",
            "Hyperparameters:\n",
            "lstm: 20\n",
            "units: 32\n",
            "dropout: 0.6000000000000001\n",
            "Score: 0.8752252459526062\n",
            "Trial summary\n",
            "Hyperparameters:\n",
            "lstm: 10\n",
            "units: 96\n",
            "dropout: 0.5000000000000001\n",
            "Score: 0.8745495676994324\n",
            "Trial summary\n",
            "Hyperparameters:\n",
            "lstm: 20\n",
            "units: 96\n",
            "dropout: 0.6000000000000001\n",
            "Score: 0.8724098801612854\n",
            "Trial summary\n",
            "Hyperparameters:\n",
            "lstm: 15\n",
            "units: 64\n",
            "dropout: 0.6000000000000001\n",
            "Score: 0.8697072267532349\n",
            "Trial summary\n",
            "Hyperparameters:\n",
            "lstm: 10\n",
            "units: 96\n",
            "dropout: 0.6000000000000001\n",
            "Score: 0.8692567348480225\n",
            "Trial summary\n",
            "Hyperparameters:\n",
            "lstm: 10\n",
            "units: 32\n",
            "dropout: 0.7000000000000002\n",
            "Score: 0.8626126050949097\n",
            "Trial summary\n",
            "Hyperparameters:\n",
            "lstm: 10\n",
            "units: 64\n",
            "dropout: 0.7000000000000002\n",
            "Score: 0.8587837815284729\n",
            "Trial summary\n",
            "Hyperparameters:\n",
            "lstm: 30\n",
            "units: 64\n",
            "dropout: 0.8000000000000003\n",
            "Score: 0.857207179069519\n"
          ]
        }
      ]
    },
    {
      "cell_type": "markdown",
      "source": [
        "### Best Epoch"
      ],
      "metadata": {
        "id": "QAzVln_SSs--"
      }
    },
    {
      "cell_type": "code",
      "source": [
        "model = tuner.hypermodel.build(best_hps)\n",
        "history = model.fit(X_tf_train_seq, y_tf_train, batch_size=64, shuffle=True, epochs=10, validation_data=(X_tf_test_seq, y_tf_test))"
      ],
      "metadata": {
        "id": "VlkU6hGwSs--",
        "colab": {
          "base_uri": "https://localhost:8080/"
        },
        "outputId": "a6c74a29-7d7d-4793-902e-0fefd62bb401"
      },
      "execution_count": null,
      "outputs": [
        {
          "output_type": "stream",
          "name": "stdout",
          "text": [
            "Epoch 1/10\n",
            "Epoch 1/10\n",
            "324/324 [==============================] - 74s 219ms/step - loss: 0.4078 - accuracy: 0.8208 - precision_m: 0.8210 - recall_m: 0.8183 - val_loss: 0.3376 - val_accuracy: 0.8586 - val_precision_m: 0.8957 - val_recall_m: 0.8103\n",
            "324/324 [==============================] - 74s 219ms/step - loss: 0.4078 - accuracy: 0.8208 - precision_m: 0.8210 - recall_m: 0.8183 - val_loss: 0.3376 - val_accuracy: 0.8586 - val_precision_m: 0.8957 - val_recall_m: 0.8103\n",
            "Epoch 2/10\n",
            "Epoch 2/10\n",
            "324/324 [==============================] - 71s 218ms/step - loss: 0.3518 - accuracy: 0.8535 - precision_m: 0.8505 - recall_m: 0.8606 - val_loss: 0.3038 - val_accuracy: 0.8738 - val_precision_m: 0.8804 - val_recall_m: 0.8642\n",
            "324/324 [==============================] - 71s 218ms/step - loss: 0.3518 - accuracy: 0.8535 - precision_m: 0.8505 - recall_m: 0.8606 - val_loss: 0.3038 - val_accuracy: 0.8738 - val_precision_m: 0.8804 - val_recall_m: 0.8642\n",
            "Epoch 3/10\n",
            "Epoch 3/10\n",
            "324/324 [==============================] - 71s 219ms/step - loss: 0.3255 - accuracy: 0.8666 - precision_m: 0.8642 - recall_m: 0.8712 - val_loss: 0.3030 - val_accuracy: 0.8757 - val_precision_m: 0.8739 - val_recall_m: 0.8762\n",
            "324/324 [==============================] - 71s 219ms/step - loss: 0.3255 - accuracy: 0.8666 - precision_m: 0.8642 - recall_m: 0.8712 - val_loss: 0.3030 - val_accuracy: 0.8757 - val_precision_m: 0.8739 - val_recall_m: 0.8762\n",
            "Epoch 4/10\n",
            "Epoch 4/10\n",
            "324/324 [==============================] - 71s 219ms/step - loss: 0.3048 - accuracy: 0.8732 - precision_m: 0.8675 - recall_m: 0.8823 - val_loss: 0.3030 - val_accuracy: 0.8742 - val_precision_m: 0.8981 - val_recall_m: 0.8419\n",
            "324/324 [==============================] - 71s 219ms/step - loss: 0.3048 - accuracy: 0.8732 - precision_m: 0.8675 - recall_m: 0.8823 - val_loss: 0.3030 - val_accuracy: 0.8742 - val_precision_m: 0.8981 - val_recall_m: 0.8419\n",
            "Epoch 5/10\n",
            "Epoch 5/10\n",
            "324/324 [==============================] - 69s 214ms/step - loss: 0.2958 - accuracy: 0.8776 - precision_m: 0.8718 - recall_m: 0.8875 - val_loss: 0.2871 - val_accuracy: 0.8769 - val_precision_m: 0.8555 - val_recall_m: 0.9060\n",
            "324/324 [==============================] - 69s 214ms/step - loss: 0.2958 - accuracy: 0.8776 - precision_m: 0.8718 - recall_m: 0.8875 - val_loss: 0.2871 - val_accuracy: 0.8769 - val_precision_m: 0.8555 - val_recall_m: 0.9060\n",
            "Epoch 6/10\n",
            "Epoch 6/10\n",
            "324/324 [==============================] - 70s 215ms/step - loss: 0.2861 - accuracy: 0.8834 - precision_m: 0.8786 - recall_m: 0.8914 - val_loss: 0.2955 - val_accuracy: 0.8751 - val_precision_m: 0.8491 - val_recall_m: 0.9113\n",
            "324/324 [==============================] - 70s 215ms/step - loss: 0.2861 - accuracy: 0.8834 - precision_m: 0.8786 - recall_m: 0.8914 - val_loss: 0.2955 - val_accuracy: 0.8751 - val_precision_m: 0.8491 - val_recall_m: 0.9113\n",
            "Epoch 7/10\n",
            "Epoch 7/10\n",
            "324/324 [==============================] - 70s 217ms/step - loss: 0.2776 - accuracy: 0.8845 - precision_m: 0.8802 - recall_m: 0.8917 - val_loss: 0.2967 - val_accuracy: 0.8776 - val_precision_m: 0.8597 - val_recall_m: 0.9007\n",
            "324/324 [==============================] - 70s 217ms/step - loss: 0.2776 - accuracy: 0.8845 - precision_m: 0.8802 - recall_m: 0.8917 - val_loss: 0.2967 - val_accuracy: 0.8776 - val_precision_m: 0.8597 - val_recall_m: 0.9007\n",
            "Epoch 8/10\n",
            "Epoch 8/10\n",
            "324/324 [==============================] - 70s 216ms/step - loss: 0.2716 - accuracy: 0.8889 - precision_m: 0.8840 - recall_m: 0.8958 - val_loss: 0.3203 - val_accuracy: 0.8734 - val_precision_m: 0.8439 - val_recall_m: 0.9139\n",
            "324/324 [==============================] - 70s 216ms/step - loss: 0.2716 - accuracy: 0.8889 - precision_m: 0.8840 - recall_m: 0.8958 - val_loss: 0.3203 - val_accuracy: 0.8734 - val_precision_m: 0.8439 - val_recall_m: 0.9139\n",
            "Epoch 9/10\n",
            "Epoch 9/10\n",
            "324/324 [==============================] - 71s 218ms/step - loss: 0.2638 - accuracy: 0.8926 - precision_m: 0.8913 - recall_m: 0.8957 - val_loss: 0.3143 - val_accuracy: 0.8771 - val_precision_m: 0.8744 - val_recall_m: 0.8805\n",
            "324/324 [==============================] - 71s 218ms/step - loss: 0.2638 - accuracy: 0.8926 - precision_m: 0.8913 - recall_m: 0.8957 - val_loss: 0.3143 - val_accuracy: 0.8771 - val_precision_m: 0.8744 - val_recall_m: 0.8805\n",
            "Epoch 10/10\n",
            "Epoch 10/10\n",
            "324/324 [==============================] - 74s 229ms/step - loss: 0.2627 - accuracy: 0.8924 - precision_m: 0.8866 - recall_m: 0.9006 - val_loss: 0.2942 - val_accuracy: 0.8755 - val_precision_m: 0.8924 - val_recall_m: 0.8523\n",
            "324/324 [==============================] - 74s 229ms/step - loss: 0.2627 - accuracy: 0.8924 - precision_m: 0.8866 - recall_m: 0.9006 - val_loss: 0.2942 - val_accuracy: 0.8755 - val_precision_m: 0.8924 - val_recall_m: 0.8523\n"
          ]
        }
      ]
    },
    {
      "cell_type": "code",
      "source": [
        "val_acc_per_epoch = history.history['val_recall_m']\n",
        "best_epoch = val_acc_per_epoch.index(max(val_acc_per_epoch)) + 1\n",
        "print('Best epoch: %d' % (best_epoch,))"
      ],
      "metadata": {
        "id": "b3TJTqCNSs--",
        "colab": {
          "base_uri": "https://localhost:8080/"
        },
        "outputId": "20407b1a-15a4-4186-eb0a-a75e964dd76d"
      },
      "execution_count": null,
      "outputs": [
        {
          "output_type": "stream",
          "name": "stdout",
          "text": [
            "Best epoch: 8\n"
          ]
        }
      ]
    },
    {
      "cell_type": "markdown",
      "source": [
        "### Rebuild Model"
      ],
      "metadata": {
        "id": "p4Wjt0QuSs--"
      }
    },
    {
      "cell_type": "code",
      "source": [
        "hypermodel = tuner.hypermodel.build(best_hps)"
      ],
      "metadata": {
        "id": "uQKgq9GawKb-"
      },
      "execution_count": null,
      "outputs": []
    },
    {
      "cell_type": "code",
      "source": [
        "start_time = datetime.now()\n",
        "\n",
        "# Retrain the model\n",
        "history = hypermodel.fit(X_tf_train_seq, y_tf_train, batch_size=64, shuffle=True, epochs=best_epoch, validation_split=0.2)\n",
        "end_time = datetime.now()\n",
        "\n",
        "training_time_rnn = (end_time - start_time).total_seconds()"
      ],
      "metadata": {
        "id": "KqW_p_2mSs--",
        "colab": {
          "base_uri": "https://localhost:8080/"
        },
        "outputId": "d87d2190-d043-4546-8164-6a6a556ed65a"
      },
      "execution_count": null,
      "outputs": [
        {
          "output_type": "stream",
          "name": "stdout",
          "text": [
            "Epoch 1/8\n",
            "259/259 [==============================] - 55s 202ms/step - loss: 0.4227 - accuracy: 0.8132 - precision_m: 0.8094 - recall_m: 0.8257 - val_loss: 0.3376 - val_accuracy: 0.8663 - val_precision_m: 0.8459 - val_recall_m: 0.8933\n",
            "Epoch 2/8\n",
            "259/259 [==============================] - 53s 204ms/step - loss: 0.3581 - accuracy: 0.8512 - precision_m: 0.8480 - recall_m: 0.8588 - val_loss: 0.3226 - val_accuracy: 0.8704 - val_precision_m: 0.8679 - val_recall_m: 0.8720\n",
            "Epoch 3/8\n",
            "259/259 [==============================] - 52s 202ms/step - loss: 0.3373 - accuracy: 0.8574 - precision_m: 0.8534 - recall_m: 0.8667 - val_loss: 0.3200 - val_accuracy: 0.8723 - val_precision_m: 0.8911 - val_recall_m: 0.8478\n",
            "Epoch 4/8\n",
            "259/259 [==============================] - 51s 196ms/step - loss: 0.3145 - accuracy: 0.8680 - precision_m: 0.8675 - recall_m: 0.8713 - val_loss: 0.3097 - val_accuracy: 0.8699 - val_precision_m: 0.8417 - val_recall_m: 0.9104\n",
            "Epoch 5/8\n",
            "259/259 [==============================] - 51s 198ms/step - loss: 0.2998 - accuracy: 0.8752 - precision_m: 0.8704 - recall_m: 0.8843 - val_loss: 0.3046 - val_accuracy: 0.8791 - val_precision_m: 0.8926 - val_recall_m: 0.8621\n",
            "Epoch 6/8\n",
            "259/259 [==============================] - 60s 230ms/step - loss: 0.2964 - accuracy: 0.8774 - precision_m: 0.8775 - recall_m: 0.8800 - val_loss: 0.3060 - val_accuracy: 0.8793 - val_precision_m: 0.8735 - val_recall_m: 0.8862\n",
            "Epoch 7/8\n",
            "259/259 [==============================] - 53s 205ms/step - loss: 0.2807 - accuracy: 0.8811 - precision_m: 0.8773 - recall_m: 0.8882 - val_loss: 0.3047 - val_accuracy: 0.8762 - val_precision_m: 0.8536 - val_recall_m: 0.9091\n",
            "Epoch 8/8\n",
            "259/259 [==============================] - 52s 201ms/step - loss: 0.2720 - accuracy: 0.8885 - precision_m: 0.8852 - recall_m: 0.8951 - val_loss: 0.3298 - val_accuracy: 0.8704 - val_precision_m: 0.8347 - val_recall_m: 0.9236\n"
          ]
        }
      ]
    },
    {
      "cell_type": "code",
      "source": [
        "eval_result = hypermodel.evaluate(X_tf_test_seq, y_tf_test)\n",
        "print(\"[test loss, test accuracy]:\", eval_result)"
      ],
      "metadata": {
        "id": "ZmeSdaFcSs--",
        "colab": {
          "base_uri": "https://localhost:8080/"
        },
        "outputId": "fac2e319-c606-484f-9180-a1717bcde6d2"
      },
      "execution_count": null,
      "outputs": [
        {
          "output_type": "stream",
          "name": "stdout",
          "text": [
            "278/278 [==============================] - 10s 36ms/step - loss: 0.3246 - accuracy: 0.8694 - precision_m: 0.8335 - recall_m: 0.9226\n",
            "[test loss, test accuracy]: [0.32461482286453247, 0.869369387626648, 0.8335002660751343, 0.922552227973938]\n"
          ]
        }
      ]
    },
    {
      "cell_type": "markdown",
      "source": [
        "## Best Model"
      ],
      "metadata": {
        "id": "r3GPbmtxTVko"
      }
    },
    {
      "cell_type": "code",
      "execution_count": null,
      "metadata": {
        "id": "9cdvD7xtAXJM",
        "colab": {
          "base_uri": "https://localhost:8080/"
        },
        "outputId": "f97d80d9-5e83-4617-c5b2-2ceb6167540e"
      },
      "outputs": [
        {
          "output_type": "stream",
          "name": "stdout",
          "text": [
            "Model: \"model_2\"\n",
            "_________________________________________________________________\n",
            " Layer (type)                Output Shape              Param #   \n",
            "=================================================================\n",
            " input (InputLayer)          [(None, 200)]             0         \n",
            "                                                                 \n",
            " embedding (Embedding)       (None, 200, 300)          9000300   \n",
            "                                                                 \n",
            " bidirectional-lstm (Bidirec  (None, 50)               65200     \n",
            " tional)                                                         \n",
            "                                                                 \n",
            " dropout (Dropout)           (None, 50)                0         \n",
            "                                                                 \n",
            " dense (Dense)               (None, 64)                3264      \n",
            "                                                                 \n",
            " classification (Dense)      (None, 1)                 65        \n",
            "                                                                 \n",
            "=================================================================\n",
            "Total params: 9,068,829\n",
            "Trainable params: 68,529\n",
            "Non-trainable params: 9,000,300\n",
            "_________________________________________________________________\n"
          ]
        }
      ],
      "source": [
        "hypermodel.summary()"
      ]
    },
    {
      "cell_type": "code",
      "execution_count": null,
      "metadata": {
        "id": "QQe7dP-rsCs1",
        "colab": {
          "base_uri": "https://localhost:8080/",
          "height": 644
        },
        "outputId": "f651a296-511b-48a8-dd38-c4ec177b06bc"
      },
      "outputs": [
        {
          "output_type": "execute_result",
          "data": {
            "image/png": "[encoded data removed]",
            "text/plain": [
              "<IPython.core.display.Image object>"
            ]
          },
          "metadata": {},
          "execution_count": 188
        }
      ],
      "source": [
        "plot_model(hypermodel, show_shapes=True)"
      ]
    },
    {
      "cell_type": "markdown",
      "metadata": {
        "id": "jNJIhHvrMZkN"
      },
      "source": [
        "### Evaluate Model"
      ]
    },
    {
      "cell_type": "code",
      "execution_count": null,
      "metadata": {
        "id": "JzR6sPr6AoFu",
        "colab": {
          "base_uri": "https://localhost:8080/",
          "height": 354
        },
        "outputId": "cceff655-e3b6-4fae-c157-7eb3ec013f9e"
      },
      "outputs": [
        {
          "output_type": "execute_result",
          "data": {
            "text/plain": [
              "<matplotlib.legend.Legend at 0x7f3443a5c750>"
            ]
          },
          "metadata": {},
          "execution_count": 189
        },
        {
          "output_type": "display_data",
          "data": {
            "text/plain": [
              "<Figure size 1080x360 with 2 Axes>"
            ],
            "image/png": "[encoded data removed]"
          },
          "metadata": {
            "needs_background": "light"
          }
        }
      ],
      "source": [
        "fig, ax = plt.subplots(nrows=1, ncols=2, figsize=(15, 5))\n",
        "ax[0].set(title='Loss')\n",
        "ax[0].plot(history.history['loss'], label='Training')\n",
        "ax[0].plot(history.history['val_loss'], label='Validation')\n",
        "ax[0].legend(loc=\"upper right\")\n",
        "\n",
        "ax[1].set(title='Accuracy')\n",
        "ax[1].plot(history.history['accuracy'], label='Training')\n",
        "ax[1].plot(history.history['val_accuracy'], label='Validation')\n",
        "ax[1].legend(loc=\"lower right\")"
      ]
    },
    {
      "cell_type": "code",
      "source": [
        "pd.DataFrame(history.history)"
      ],
      "metadata": {
        "id": "uKZIGcb7KFog",
        "colab": {
          "base_uri": "https://localhost:8080/",
          "height": 300
        },
        "outputId": "b09a4c4b-9554-4fff-f86a-70606ec6b6a9"
      },
      "execution_count": null,
      "outputs": [
        {
          "output_type": "execute_result",
          "data": {
            "text/plain": [
              "       loss  accuracy  precision_m  recall_m  val_loss  val_accuracy  \\\n",
              "0  0.422731  0.813224     0.809433  0.825704  0.337646      0.866313   \n",
              "1  0.358097  0.851170     0.848037  0.858792  0.322598      0.870415   \n",
              "2  0.337256  0.857384     0.853378  0.866658  0.319972      0.872346   \n",
              "3  0.314452  0.868002     0.867538  0.871303  0.309669      0.869932   \n",
              "4  0.299797  0.875181     0.870363  0.884252  0.304644      0.879102   \n",
              "5  0.296355  0.877413     0.877524  0.879990  0.306004      0.879344   \n",
              "6  0.280734  0.881093     0.877322  0.888151  0.304701      0.876207   \n",
              "7  0.271974  0.888453     0.885205  0.895093  0.329759      0.870415   \n",
              "\n",
              "   val_precision_m  val_recall_m  \n",
              "0         0.845860      0.893286  \n",
              "1         0.867901      0.872000  \n",
              "2         0.891128      0.847832  \n",
              "3         0.841745      0.910377  \n",
              "4         0.892635      0.862144  \n",
              "5         0.873513      0.886163  \n",
              "6         0.853616      0.909133  \n",
              "7         0.834657      0.923644  "
            ],
            "text/html": [
              "\n",
              "  <div id=\"df-9ed6e335-24d7-4357-a1ae-be535b01df2d\">\n",
              "    <div class=\"colab-df-container\">\n",
              "      <div>\n",
              "<style scoped>\n",
              "    .dataframe tbody tr th:only-of-type {\n",
              "        vertical-align: middle;\n",
              "    }\n",
              "\n",
              "    .dataframe tbody tr th {\n",
              "        vertical-align: top;\n",
              "    }\n",
              "\n",
              "    .dataframe thead th {\n",
              "        text-align: right;\n",
              "    }\n",
              "</style>\n",
              "<table border=\"1\" class=\"dataframe\">\n",
              "  <thead>\n",
              "    <tr style=\"text-align: right;\">\n",
              "      <th></th>\n",
              "      <th>loss</th>\n",
              "      <th>accuracy</th>\n",
              "      <th>precision_m</th>\n",
              "      <th>recall_m</th>\n",
              "      <th>val_loss</th>\n",
              "      <th>val_accuracy</th>\n",
              "      <th>val_precision_m</th>\n",
              "      <th>val_recall_m</th>\n",
              "    </tr>\n",
              "  </thead>\n",
              "  <tbody>\n",
              "    <tr>\n",
              "      <th>0</th>\n",
              "      <td>0.422731</td>\n",
              "      <td>0.813224</td>\n",
              "      <td>0.809433</td>\n",
              "      <td>0.825704</td>\n",
              "      <td>0.337646</td>\n",
              "      <td>0.866313</td>\n",
              "      <td>0.845860</td>\n",
              "      <td>0.893286</td>\n",
              "    </tr>\n",
              "    <tr>\n",
              "      <th>1</th>\n",
              "      <td>0.358097</td>\n",
              "      <td>0.851170</td>\n",
              "      <td>0.848037</td>\n",
              "      <td>0.858792</td>\n",
              "      <td>0.322598</td>\n",
              "      <td>0.870415</td>\n",
              "      <td>0.867901</td>\n",
              "      <td>0.872000</td>\n",
              "    </tr>\n",
              "    <tr>\n",
              "      <th>2</th>\n",
              "      <td>0.337256</td>\n",
              "      <td>0.857384</td>\n",
              "      <td>0.853378</td>\n",
              "      <td>0.866658</td>\n",
              "      <td>0.319972</td>\n",
              "      <td>0.872346</td>\n",
              "      <td>0.891128</td>\n",
              "      <td>0.847832</td>\n",
              "    </tr>\n",
              "    <tr>\n",
              "      <th>3</th>\n",
              "      <td>0.314452</td>\n",
              "      <td>0.868002</td>\n",
              "      <td>0.867538</td>\n",
              "      <td>0.871303</td>\n",
              "      <td>0.309669</td>\n",
              "      <td>0.869932</td>\n",
              "      <td>0.841745</td>\n",
              "      <td>0.910377</td>\n",
              "    </tr>\n",
              "    <tr>\n",
              "      <th>4</th>\n",
              "      <td>0.299797</td>\n",
              "      <td>0.875181</td>\n",
              "      <td>0.870363</td>\n",
              "      <td>0.884252</td>\n",
              "      <td>0.304644</td>\n",
              "      <td>0.879102</td>\n",
              "      <td>0.892635</td>\n",
              "      <td>0.862144</td>\n",
              "    </tr>\n",
              "    <tr>\n",
              "      <th>5</th>\n",
              "      <td>0.296355</td>\n",
              "      <td>0.877413</td>\n",
              "      <td>0.877524</td>\n",
              "      <td>0.879990</td>\n",
              "      <td>0.306004</td>\n",
              "      <td>0.879344</td>\n",
              "      <td>0.873513</td>\n",
              "      <td>0.886163</td>\n",
              "    </tr>\n",
              "    <tr>\n",
              "      <th>6</th>\n",
              "      <td>0.280734</td>\n",
              "      <td>0.881093</td>\n",
              "      <td>0.877322</td>\n",
              "      <td>0.888151</td>\n",
              "      <td>0.304701</td>\n",
              "      <td>0.876207</td>\n",
              "      <td>0.853616</td>\n",
              "      <td>0.909133</td>\n",
              "    </tr>\n",
              "    <tr>\n",
              "      <th>7</th>\n",
              "      <td>0.271974</td>\n",
              "      <td>0.888453</td>\n",
              "      <td>0.885205</td>\n",
              "      <td>0.895093</td>\n",
              "      <td>0.329759</td>\n",
              "      <td>0.870415</td>\n",
              "      <td>0.834657</td>\n",
              "      <td>0.923644</td>\n",
              "    </tr>\n",
              "  </tbody>\n",
              "</table>\n",
              "</div>\n",
              "      <button class=\"colab-df-convert\" onclick=\"convertToInteractive('df-9ed6e335-24d7-4357-a1ae-be535b01df2d')\"\n",
              "              title=\"Convert this dataframe to an interactive table.\"\n",
              "              style=\"display:none;\">\n",
              "        \n",
              "  <svg xmlns=\"http://www.w3.org/2000/svg\" height=\"24px\"viewBox=\"0 0 24 24\"\n",
              "       width=\"24px\">\n",
              "    <path d=\"M0 0h24v24H0V0z\" fill=\"none\"/>\n",
              "    <path d=\"M18.56 5.44l.94 2.06.94-2.06 2.06-.94-2.06-.94-.94-2.06-.94 2.06-2.06.94zm-11 1L8.5 8.5l.94-2.06 2.06-.94-2.06-.94L8.5 2.5l-.94 2.06-2.06.94zm10 10l.94 2.06.94-2.06 2.06-.94-2.06-.94-.94-2.06-.94 2.06-2.06.94z\"/><path d=\"M17.41 7.96l-1.37-1.37c-.4-.4-.92-.59-1.43-.59-.52 0-1.04.2-1.43.59L10.3 9.45l-7.72 7.72c-.78.78-.78 2.05 0 2.83L4 21.41c.39.39.9.59 1.41.59.51 0 1.02-.2 1.41-.59l7.78-7.78 2.81-2.81c.8-.78.8-2.07 0-2.86zM5.41 20L4 18.59l7.72-7.72 1.47 1.35L5.41 20z\"/>\n",
              "  </svg>\n",
              "      </button>\n",
              "      \n",
              "  <style>\n",
              "    .colab-df-container {\n",
              "      display:flex;\n",
              "      flex-wrap:wrap;\n",
              "      gap: 12px;\n",
              "    }\n",
              "\n",
              "    .colab-df-convert {\n",
              "      background-color: #E8F0FE;\n",
              "      border: none;\n",
              "      border-radius: 50%;\n",
              "      cursor: pointer;\n",
              "      display: none;\n",
              "      fill: #1967D2;\n",
              "      height: 32px;\n",
              "      padding: 0 0 0 0;\n",
              "      width: 32px;\n",
              "    }\n",
              "\n",
              "    .colab-df-convert:hover {\n",
              "      background-color: #E2EBFA;\n",
              "      box-shadow: 0px 1px 2px rgba(60, 64, 67, 0.3), 0px 1px 3px 1px rgba(60, 64, 67, 0.15);\n",
              "      fill: #174EA6;\n",
              "    }\n",
              "\n",
              "    [theme=dark] .colab-df-convert {\n",
              "      background-color: #3B4455;\n",
              "      fill: #D2E3FC;\n",
              "    }\n",
              "\n",
              "    [theme=dark] .colab-df-convert:hover {\n",
              "      background-color: #434B5C;\n",
              "      box-shadow: 0px 1px 3px 1px rgba(0, 0, 0, 0.15);\n",
              "      filter: drop-shadow(0px 1px 2px rgba(0, 0, 0, 0.3));\n",
              "      fill: #FFFFFF;\n",
              "    }\n",
              "  </style>\n",
              "\n",
              "      <script>\n",
              "        const buttonEl =\n",
              "          document.querySelector('#df-9ed6e335-24d7-4357-a1ae-be535b01df2d button.colab-df-convert');\n",
              "        buttonEl.style.display =\n",
              "          google.colab.kernel.accessAllowed ? 'block' : 'none';\n",
              "\n",
              "        async function convertToInteractive(key) {\n",
              "          const element = document.querySelector('#df-9ed6e335-24d7-4357-a1ae-be535b01df2d');\n",
              "          const dataTable =\n",
              "            await google.colab.kernel.invokeFunction('convertToInteractive',\n",
              "                                                     [key], {});\n",
              "          if (!dataTable) return;\n",
              "\n",
              "          const docLinkHtml = 'Like what you see? Visit the ' +\n",
              "            '<a target=\"_blank\" href=https://colab.research.google.com/notebooks/data_table.ipynb>data table notebook</a>'\n",
              "            + ' to learn more about interactive tables.';\n",
              "          element.innerHTML = '';\n",
              "          dataTable['output_type'] = 'display_data';\n",
              "          await google.colab.output.renderOutput(dataTable, element);\n",
              "          const docLink = document.createElement('div');\n",
              "          docLink.innerHTML = docLinkHtml;\n",
              "          element.appendChild(docLink);\n",
              "        }\n",
              "      </script>\n",
              "    </div>\n",
              "  </div>\n",
              "  "
            ]
          },
          "metadata": {},
          "execution_count": 190
        }
      ]
    },
    {
      "cell_type": "code",
      "execution_count": null,
      "metadata": {
        "id": "9VSDdXPiAsB9",
        "colab": {
          "base_uri": "https://localhost:8080/"
        },
        "outputId": "a9179c4f-a98c-4459-afb9-29e39688e703"
      },
      "outputs": [
        {
          "output_type": "stream",
          "name": "stdout",
          "text": [
            "Accuracy Training data: 88.8%\n",
            "Accuracy Test data: 87.0%\n",
            "Training time: 444.5s\n"
          ]
        }
      ],
      "source": [
        "accuracy_rnn = history.history['val_accuracy'][-1]\n",
        "print('Accuracy Training data: {:.1%}'.format(history.history['accuracy'][-1]))\n",
        "print('Accuracy Test data: {:.1%}'.format(history.history['val_accuracy'][-1]))\n",
        "print('Training time: {:.1f}s'.format(training_time_rnn))"
      ]
    },
    {
      "cell_type": "markdown",
      "metadata": {
        "id": "wUpYVztD1xL2"
      },
      "source": [
        "### Confusion Matrix"
      ]
    },
    {
      "cell_type": "code",
      "execution_count": null,
      "metadata": {
        "id": "rD2_aSBl00UM"
      },
      "outputs": [],
      "source": [
        "predicted_test_rnn = hypermodel.predict(X_tf_test_seq).reshape(-1)\n",
        "predicted_test_rnn = [1 if prob > 0.5 else 0 for prob in predicted_test_rnn]"
      ]
    },
    {
      "cell_type": "code",
      "execution_count": null,
      "metadata": {
        "id": "tzF9dUqay8_g"
      },
      "outputs": [],
      "source": [
        "cm_rnn = confusion_matrix(y_tf_test, predicted_test_rnn)\n",
        "cm_rnn"
      ]
    },
    {
      "cell_type": "code",
      "execution_count": null,
      "metadata": {
        "id": "iqqwt70szLST",
        "colab": {
          "base_uri": "https://localhost:8080/",
          "height": 520
        },
        "outputId": "597c82b8-cb42-4280-a279-fd2e333a17c9"
      },
      "outputs": [
        {
          "output_type": "display_data",
          "data": {
            "text/plain": [
              "<Figure size 648x648 with 2 Axes>"
            ],
            "image/png": "[encoded data removed]"
          },
          "metadata": {
            "needs_background": "light"
          }
        }
      ],
      "source": [
        "sns_cm(cm_rnn, history.history['val_accuracy'][-1])"
      ]
    },
    {
      "cell_type": "markdown",
      "metadata": {
        "id": "5z-YsAmYTU7v"
      },
      "source": [
        "### Test Prediction"
      ]
    },
    {
      "cell_type": "code",
      "execution_count": null,
      "metadata": {
        "id": "OjnkQIbxTPNy"
      },
      "outputs": [],
      "source": [
        "text_test_seq = kprocessing.sequence.pad_sequences(tokenizer.texts_to_sequences(text_test), maxlen=max_len)"
      ]
    },
    {
      "cell_type": "code",
      "execution_count": null,
      "metadata": {
        "id": "YptaJDk1XOUS",
        "colab": {
          "base_uri": "https://localhost:8080/"
        },
        "outputId": "7120452c-fb96-42b3-c2f2-6e1432fc7357"
      },
      "outputs": [
        {
          "output_type": "execute_result",
          "data": {
            "text/plain": [
              "(5, 200)"
            ]
          },
          "metadata": {},
          "execution_count": 196
        }
      ],
      "source": [
        "text_test_seq.shape"
      ]
    },
    {
      "cell_type": "code",
      "execution_count": null,
      "metadata": {
        "id": "l_UhfnrTXUCW",
        "colab": {
          "base_uri": "https://localhost:8080/"
        },
        "outputId": "97e812cf-3fc9-4bef-cfb7-7c6a64046ecc"
      },
      "outputs": [
        {
          "output_type": "execute_result",
          "data": {
            "text/plain": [
              "array([  0,   0,   0,   0,   0,   0,   0,   0,   0,   0,   0,   0,   0,\n",
              "         0,   0,   0,   0,   0,   0,   0,   0,   0,   0,   0,   0,   0,\n",
              "         0,   0,   0,   0,   0,   0,   0,   0,   0,   0,   0,   0,   0,\n",
              "         0,   0,   0,   0,   0,   0,   0,   0,   0,   0,   0,   0,   0,\n",
              "         0,   0,   0,   0,   0,   0,   0,   0,   0,   0,   0,   0,   0,\n",
              "         0,   0,   0,   0,   0,   0,   0,   0,   0,   0,   0,   0,   0,\n",
              "         0,   0,   0,   0,   0,   0,   0,   0,   0,   0,   0,   0,   0,\n",
              "         0,   0,   0,   0,   0,   0,   0,   0,   0,   0,   0,   0,   0,\n",
              "         0,   0,   0,   0,   0,   0,   0,   0,   0,   0,   0,   0,   0,\n",
              "         0,   0,   0,   0,   0,   0,   0,   0,   0,   0,   0,   0,   0,\n",
              "         0,   0,   0,   0,   0,   0,   0,   0,   0,   0,   0,   0,   0,\n",
              "         0,   0,   0,   0,   0,   0,   0,   0,   0,   0,   0,   0,   0,\n",
              "         0,   0,   0,   0,   0,   0,   0,   0,   0,   0,   0,   0,   0,\n",
              "         0,   0,   0,   0,   0,   0,   0,   0,   0,   0,   0,   0,   0,\n",
              "         0,   0,   0,   0,   0,   0,   0,   6, 771,   3,   6, 774, 832,\n",
              "       883,  15,   6, 712, 627], dtype=int32)"
            ]
          },
          "metadata": {},
          "execution_count": 197
        }
      ],
      "source": [
        "text_test_seq[0, :]"
      ]
    },
    {
      "cell_type": "code",
      "execution_count": null,
      "metadata": {
        "id": "ulAbABhxXnw2",
        "colab": {
          "base_uri": "https://localhost:8080/"
        },
        "outputId": "f1f0be0a-9d52-44cc-e11c-89da124fe4da"
      },
      "outputs": [
        {
          "output_type": "execute_result",
          "data": {
            "text/plain": [
              "array([0.9706421 , 0.99517286, 0.00239542, 0.11195478, 0.892553  ],\n",
              "      dtype=float32)"
            ]
          },
          "metadata": {},
          "execution_count": 198
        }
      ],
      "source": [
        "text_test_prob = hypermodel.predict(text_test_seq).reshape(-1)\n",
        "text_test_prob"
      ]
    },
    {
      "cell_type": "code",
      "execution_count": null,
      "metadata": {
        "id": "gGLLiBo0k8wF",
        "colab": {
          "base_uri": "https://localhost:8080/"
        },
        "outputId": "91b73c01-34df-4488-fcd5-c2f7139facec"
      },
      "outputs": [
        {
          "output_type": "execute_result",
          "data": {
            "text/plain": [
              "[1, 1, 0, 0, 1]"
            ]
          },
          "metadata": {},
          "execution_count": 199
        }
      ],
      "source": [
        "text_test_prediction = [1 if prob > 0.5 else 0 for prob in text_test_prob]\n",
        "text_test_prediction"
      ]
    },
    {
      "cell_type": "code",
      "execution_count": null,
      "metadata": {
        "id": "ES01_WJ0WPR6",
        "colab": {
          "base_uri": "https://localhost:8080/",
          "height": 206
        },
        "outputId": "3d53d101-c15a-4b53-f07e-622dfd163e2f"
      },
      "outputs": [
        {
          "output_type": "execute_result",
          "data": {
            "text/plain": [
              "                                                Text  Probability  Prediction  \\\n",
              "0  A journey of a thousand miles begins with a si...     0.970642           1   \n",
              "1  Are you beginning a journey of a thousand step...     0.995173           1   \n",
              "2  The Post cited people familiar with the invest...     0.002395           0   \n",
              "3  But it turns out that Trump did take such mate...     0.111955           0   \n",
              "4             No one will reap except what they sow.     0.892553           1   \n",
              "\n",
              "   Truth  \n",
              "0      1  \n",
              "1      0  \n",
              "2      0  \n",
              "3      0  \n",
              "4      1  "
            ],
            "text/html": [
              "\n",
              "  <div id=\"df-0f642d2d-b00e-42d2-9382-3e622918063e\">\n",
              "    <div class=\"colab-df-container\">\n",
              "      <div>\n",
              "<style scoped>\n",
              "    .dataframe tbody tr th:only-of-type {\n",
              "        vertical-align: middle;\n",
              "    }\n",
              "\n",
              "    .dataframe tbody tr th {\n",
              "        vertical-align: top;\n",
              "    }\n",
              "\n",
              "    .dataframe thead th {\n",
              "        text-align: right;\n",
              "    }\n",
              "</style>\n",
              "<table border=\"1\" class=\"dataframe\">\n",
              "  <thead>\n",
              "    <tr style=\"text-align: right;\">\n",
              "      <th></th>\n",
              "      <th>Text</th>\n",
              "      <th>Probability</th>\n",
              "      <th>Prediction</th>\n",
              "      <th>Truth</th>\n",
              "    </tr>\n",
              "  </thead>\n",
              "  <tbody>\n",
              "    <tr>\n",
              "      <th>0</th>\n",
              "      <td>A journey of a thousand miles begins with a si...</td>\n",
              "      <td>0.970642</td>\n",
              "      <td>1</td>\n",
              "      <td>1</td>\n",
              "    </tr>\n",
              "    <tr>\n",
              "      <th>1</th>\n",
              "      <td>Are you beginning a journey of a thousand step...</td>\n",
              "      <td>0.995173</td>\n",
              "      <td>1</td>\n",
              "      <td>0</td>\n",
              "    </tr>\n",
              "    <tr>\n",
              "      <th>2</th>\n",
              "      <td>The Post cited people familiar with the invest...</td>\n",
              "      <td>0.002395</td>\n",
              "      <td>0</td>\n",
              "      <td>0</td>\n",
              "    </tr>\n",
              "    <tr>\n",
              "      <th>3</th>\n",
              "      <td>But it turns out that Trump did take such mate...</td>\n",
              "      <td>0.111955</td>\n",
              "      <td>0</td>\n",
              "      <td>0</td>\n",
              "    </tr>\n",
              "    <tr>\n",
              "      <th>4</th>\n",
              "      <td>No one will reap except what they sow.</td>\n",
              "      <td>0.892553</td>\n",
              "      <td>1</td>\n",
              "      <td>1</td>\n",
              "    </tr>\n",
              "  </tbody>\n",
              "</table>\n",
              "</div>\n",
              "      <button class=\"colab-df-convert\" onclick=\"convertToInteractive('df-0f642d2d-b00e-42d2-9382-3e622918063e')\"\n",
              "              title=\"Convert this dataframe to an interactive table.\"\n",
              "              style=\"display:none;\">\n",
              "        \n",
              "  <svg xmlns=\"http://www.w3.org/2000/svg\" height=\"24px\"viewBox=\"0 0 24 24\"\n",
              "       width=\"24px\">\n",
              "    <path d=\"M0 0h24v24H0V0z\" fill=\"none\"/>\n",
              "    <path d=\"M18.56 5.44l.94 2.06.94-2.06 2.06-.94-2.06-.94-.94-2.06-.94 2.06-2.06.94zm-11 1L8.5 8.5l.94-2.06 2.06-.94-2.06-.94L8.5 2.5l-.94 2.06-2.06.94zm10 10l.94 2.06.94-2.06 2.06-.94-2.06-.94-.94-2.06-.94 2.06-2.06.94z\"/><path d=\"M17.41 7.96l-1.37-1.37c-.4-.4-.92-.59-1.43-.59-.52 0-1.04.2-1.43.59L10.3 9.45l-7.72 7.72c-.78.78-.78 2.05 0 2.83L4 21.41c.39.39.9.59 1.41.59.51 0 1.02-.2 1.41-.59l7.78-7.78 2.81-2.81c.8-.78.8-2.07 0-2.86zM5.41 20L4 18.59l7.72-7.72 1.47 1.35L5.41 20z\"/>\n",
              "  </svg>\n",
              "      </button>\n",
              "      \n",
              "  <style>\n",
              "    .colab-df-container {\n",
              "      display:flex;\n",
              "      flex-wrap:wrap;\n",
              "      gap: 12px;\n",
              "    }\n",
              "\n",
              "    .colab-df-convert {\n",
              "      background-color: #E8F0FE;\n",
              "      border: none;\n",
              "      border-radius: 50%;\n",
              "      cursor: pointer;\n",
              "      display: none;\n",
              "      fill: #1967D2;\n",
              "      height: 32px;\n",
              "      padding: 0 0 0 0;\n",
              "      width: 32px;\n",
              "    }\n",
              "\n",
              "    .colab-df-convert:hover {\n",
              "      background-color: #E2EBFA;\n",
              "      box-shadow: 0px 1px 2px rgba(60, 64, 67, 0.3), 0px 1px 3px 1px rgba(60, 64, 67, 0.15);\n",
              "      fill: #174EA6;\n",
              "    }\n",
              "\n",
              "    [theme=dark] .colab-df-convert {\n",
              "      background-color: #3B4455;\n",
              "      fill: #D2E3FC;\n",
              "    }\n",
              "\n",
              "    [theme=dark] .colab-df-convert:hover {\n",
              "      background-color: #434B5C;\n",
              "      box-shadow: 0px 1px 3px 1px rgba(0, 0, 0, 0.15);\n",
              "      filter: drop-shadow(0px 1px 2px rgba(0, 0, 0, 0.3));\n",
              "      fill: #FFFFFF;\n",
              "    }\n",
              "  </style>\n",
              "\n",
              "      <script>\n",
              "        const buttonEl =\n",
              "          document.querySelector('#df-0f642d2d-b00e-42d2-9382-3e622918063e button.colab-df-convert');\n",
              "        buttonEl.style.display =\n",
              "          google.colab.kernel.accessAllowed ? 'block' : 'none';\n",
              "\n",
              "        async function convertToInteractive(key) {\n",
              "          const element = document.querySelector('#df-0f642d2d-b00e-42d2-9382-3e622918063e');\n",
              "          const dataTable =\n",
              "            await google.colab.kernel.invokeFunction('convertToInteractive',\n",
              "                                                     [key], {});\n",
              "          if (!dataTable) return;\n",
              "\n",
              "          const docLinkHtml = 'Like what you see? Visit the ' +\n",
              "            '<a target=\"_blank\" href=https://colab.research.google.com/notebooks/data_table.ipynb>data table notebook</a>'\n",
              "            + ' to learn more about interactive tables.';\n",
              "          element.innerHTML = '';\n",
              "          dataTable['output_type'] = 'display_data';\n",
              "          await google.colab.output.renderOutput(dataTable, element);\n",
              "          const docLink = document.createElement('div');\n",
              "          docLink.innerHTML = docLinkHtml;\n",
              "          element.appendChild(docLink);\n",
              "        }\n",
              "      </script>\n",
              "    </div>\n",
              "  </div>\n",
              "  "
            ]
          },
          "metadata": {},
          "execution_count": 200
        }
      ],
      "source": [
        "pd.DataFrame(data={\n",
        "    'Text': text_test,\n",
        "    'Probability': text_test_prob,\n",
        "    'Prediction': text_test_prediction,\n",
        "    'Truth': truth_test\n",
        "})"
      ]
    },
    {
      "cell_type": "markdown",
      "metadata": {
        "id": "wqoeb-i5581c"
      },
      "source": [
        "### Save Model"
      ]
    },
    {
      "cell_type": "code",
      "execution_count": null,
      "metadata": {
        "id": "oPpuH-QcmmyW",
        "colab": {
          "base_uri": "https://localhost:8080/",
          "height": 17
        },
        "outputId": "3aa3b5ce-41ed-49d4-8940-a442e604da51"
      },
      "outputs": [
        {
          "output_type": "display_data",
          "data": {
            "text/plain": [
              "<IPython.core.display.Javascript object>"
            ],
            "application/javascript": [
              "\n",
              "    async function download(id, filename, size) {\n",
              "      if (!google.colab.kernel.accessAllowed) {\n",
              "        return;\n",
              "      }\n",
              "      const div = document.createElement('div');\n",
              "      const label = document.createElement('label');\n",
              "      label.textContent = `Downloading \"${filename}\": `;\n",
              "      div.appendChild(label);\n",
              "      const progress = document.createElement('progress');\n",
              "      progress.max = size;\n",
              "      div.appendChild(progress);\n",
              "      document.body.appendChild(div);\n",
              "\n",
              "      const buffers = [];\n",
              "      let downloaded = 0;\n",
              "\n",
              "      const channel = await google.colab.kernel.comms.open(id);\n",
              "      // Send a message to notify the kernel that we're ready.\n",
              "      channel.send({})\n",
              "\n",
              "      for await (const message of channel.messages) {\n",
              "        // Send a message to notify the kernel that we're ready.\n",
              "        channel.send({})\n",
              "        if (message.buffers) {\n",
              "          for (const buffer of message.buffers) {\n",
              "            buffers.push(buffer);\n",
              "            downloaded += buffer.byteLength;\n",
              "            progress.value = downloaded;\n",
              "          }\n",
              "        }\n",
              "      }\n",
              "      const blob = new Blob(buffers, {type: 'application/binary'});\n",
              "      const a = document.createElement('a');\n",
              "      a.href = window.URL.createObjectURL(blob);\n",
              "      a.download = filename;\n",
              "      div.appendChild(a);\n",
              "      a.click();\n",
              "      div.remove();\n",
              "    }\n",
              "  "
            ]
          },
          "metadata": {}
        },
        {
          "output_type": "display_data",
          "data": {
            "text/plain": [
              "<IPython.core.display.Javascript object>"
            ],
            "application/javascript": [
              "download(\"download_61ab6c9e-2a12-4982-8d20-9bdb84356b1f\", \"corpus.model\", 2512062)"
            ]
          },
          "metadata": {}
        }
      ],
      "source": [
        "pickle.dump(corpus, open('corpus.model', 'wb'))\n",
        "# files.download('corpus.model')"
      ]
    },
    {
      "cell_type": "code",
      "execution_count": null,
      "metadata": {
        "id": "n4BOg0EczcVW",
        "colab": {
          "base_uri": "https://localhost:8080/",
          "height": 17
        },
        "outputId": "26bfd92c-706b-4aed-bc8c-2c8a681243c7"
      },
      "outputs": [
        {
          "output_type": "display_data",
          "data": {
            "text/plain": [
              "<IPython.core.display.Javascript object>"
            ],
            "application/javascript": [
              "\n",
              "    async function download(id, filename, size) {\n",
              "      if (!google.colab.kernel.accessAllowed) {\n",
              "        return;\n",
              "      }\n",
              "      const div = document.createElement('div');\n",
              "      const label = document.createElement('label');\n",
              "      label.textContent = `Downloading \"${filename}\": `;\n",
              "      div.appendChild(label);\n",
              "      const progress = document.createElement('progress');\n",
              "      progress.max = size;\n",
              "      div.appendChild(progress);\n",
              "      document.body.appendChild(div);\n",
              "\n",
              "      const buffers = [];\n",
              "      let downloaded = 0;\n",
              "\n",
              "      const channel = await google.colab.kernel.comms.open(id);\n",
              "      // Send a message to notify the kernel that we're ready.\n",
              "      channel.send({})\n",
              "\n",
              "      for await (const message of channel.messages) {\n",
              "        // Send a message to notify the kernel that we're ready.\n",
              "        channel.send({})\n",
              "        if (message.buffers) {\n",
              "          for (const buffer of message.buffers) {\n",
              "            buffers.push(buffer);\n",
              "            downloaded += buffer.byteLength;\n",
              "            progress.value = downloaded;\n",
              "          }\n",
              "        }\n",
              "      }\n",
              "      const blob = new Blob(buffers, {type: 'application/binary'});\n",
              "      const a = document.createElement('a');\n",
              "      a.href = window.URL.createObjectURL(blob);\n",
              "      a.download = filename;\n",
              "      div.appendChild(a);\n",
              "      a.click();\n",
              "      div.remove();\n",
              "    }\n",
              "  "
            ]
          },
          "metadata": {}
        },
        {
          "output_type": "display_data",
          "data": {
            "text/plain": [
              "<IPython.core.display.Javascript object>"
            ],
            "application/javascript": [
              "download(\"download_0fa3dffa-31c3-4af1-9836-ee9586a60f55\", \"rnn2.h5\", 36879472)"
            ]
          },
          "metadata": {}
        }
      ],
      "source": [
        "hypermodel.save('rnn2.h5')\n",
        "# files.download('rnn2.h5')"
      ]
    },
    {
      "cell_type": "markdown",
      "metadata": {
        "id": "YUOxqn53b3f8"
      },
      "source": [
        "Load and test the saved model."
      ]
    },
    {
      "cell_type": "code",
      "execution_count": null,
      "metadata": {
        "id": "2cvhvhY5cXyG",
        "colab": {
          "base_uri": "https://localhost:8080/"
        },
        "outputId": "89540b74-9811-4dfb-dbf3-118556b822f0"
      },
      "outputs": [
        {
          "data": {
            "text/plain": [
              "array([0.9706421 , 0.99517286, 0.00239542, 0.11195478, 0.892553  ],\n",
              "      dtype=float32)"
            ]
          },
          "execution_count": 203,
          "metadata": {},
          "output_type": "execute_result"
        }
      ],
      "source": [
        "hypermodel2 = load_model('rnn2.h5', custom_objects={'precision_m': precision_m, 'recall_m': recall_m})\n",
        "text_test_prob2 = hypermodel2.predict(text_test_seq).reshape(-1)\n",
        "text_test_prob2"
      ]
    }
  ],
  "metadata": {
    "colab": {
      "collapsed_sections": [],
      "name": "quote-rnn.ipynb",
      "provenance": []
    },
    "gpuClass": "standard",
    "kernelspec": {
      "display_name": "Python 3",
      "name": "python3"
    },
    "language_info": {
      "name": "python"
    }
  },
  "nbformat": 4,
  "nbformat_minor": 0
}