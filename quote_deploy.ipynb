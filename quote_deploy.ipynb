{
  "cells": [
    {
      "cell_type": "markdown",
      "metadata": {
        "id": "JCAaH2F2ebu3"
      },
      "source": [
        "# Automated Extraction of Quotations from Text - Model Deployment"
      ]
    },
    {
      "cell_type": "markdown",
      "metadata": {
        "id": "o6W70NZHebiJ"
      },
      "source": [
        "The purpose is to develop an Application Programming Interface (API) from the selected model to predict and extract quotations from text. The model is loaded, extracting of quotes is tested, then the API is deployed using ngrok to be tested in the Postman app."
      ]
    },
    {
      "cell_type": "markdown",
      "metadata": {
        "id": "qO4WavAZlurL"
      },
      "source": [
        "## Prepare API"
      ]
    },
    {
      "cell_type": "markdown",
      "metadata": {
        "id": "G7RZvyM0fuTH"
      },
      "source": [
        "### Load Libraries"
      ]
    },
    {
      "cell_type": "code",
      "execution_count": null,
      "metadata": {
        "id": "wS-1JUWz-9fD"
      },
      "outputs": [],
      "source": [
        "!pip install --quiet pyngrok flask_ngrok"
      ]
    },
    {
      "cell_type": "markdown",
      "source": [
        "Get your ngrok token at https://ngrok.com"
      ],
      "metadata": {
        "id": "J6uOUv-di29n"
      }
    },
    {
      "cell_type": "code",
      "source": [
        "Authtoken = input('Authtoken: ')"
      ],
      "metadata": {
        "colab": {
          "base_uri": "https://localhost:8080/"
        },
        "id": "xtbN5i3lNbqE",
        "outputId": "e44ff7b8-4900-4a10-db62-13a8eb05ed4a"
      },
      "execution_count": null,
      "outputs": [
        {
          "name": "stdout",
          "output_type": "stream",
          "text": [
            "Authtoken: Test\n"
          ]
        }
      ]
    },
    {
      "cell_type": "code",
      "execution_count": null,
      "metadata": {
        "colab": {
          "base_uri": "https://localhost:8080/"
        },
        "id": "0GgayziQD7S2",
        "outputId": "7c16ff7b-bda1-4301-f407-93b6d4b70b56"
      },
      "outputs": [
        {
          "output_type": "stream",
          "name": "stdout",
          "text": [
            "Authtoken saved to configuration file: /root/.ngrok2/ngrok.yml\n"
          ]
        }
      ],
      "source": [
        "!ngrok authtoken {Authtoken}"
      ]
    },
    {
      "cell_type": "code",
      "execution_count": null,
      "metadata": {
        "id": "khRE6bhEiTfg"
      },
      "outputs": [],
      "source": [
        "import pandas as pd\n",
        "import numpy as np\n",
        "\n",
        "from tensorflow.keras import preprocessing as kprocessing\n",
        "from tensorflow.keras.models import load_model\n",
        "\n",
        "import nltk\n",
        "from nltk.tokenize import sent_tokenize\n",
        "\n",
        "import pickle\n",
        "\n",
        "from flask_ngrok import run_with_ngrok\n",
        "from flask import Flask, render_template, request, jsonify"
      ]
    },
    {
      "cell_type": "code",
      "execution_count": null,
      "metadata": {
        "colab": {
          "base_uri": "https://localhost:8080/"
        },
        "id": "qo5kCJhLo5rm",
        "outputId": "6a2d7265-8090-46fe-82a6-a44390320aa9"
      },
      "outputs": [
        {
          "output_type": "stream",
          "name": "stderr",
          "text": [
            "[nltk_data] Downloading package punkt to /root/nltk_data...\n",
            "[nltk_data]   Unzipping tokenizers/punkt.zip.\n"
          ]
        },
        {
          "output_type": "execute_result",
          "data": {
            "text/plain": [
              "True"
            ]
          },
          "metadata": {},
          "execution_count": 12
        }
      ],
      "source": [
        "nltk.download('punkt')"
      ]
    },
    {
      "cell_type": "code",
      "execution_count": null,
      "metadata": {
        "id": "_DVhxYAbsj0m"
      },
      "outputs": [],
      "source": [
        "pd.options.display.max_colwidth = 100"
      ]
    },
    {
      "cell_type": "markdown",
      "metadata": {
        "id": "fZZD4vFJfztb"
      },
      "source": [
        "### Load Data"
      ]
    },
    {
      "cell_type": "code",
      "execution_count": null,
      "metadata": {
        "id": "OQk-YIDTi8T0"
      },
      "outputs": [],
      "source": [
        "sentences_test = [\n",
        "  'A journey of a thousand miles begins with a single step.',\n",
        "  'Are you beginning a journey of a thousand steps tomorrow?',\n",
        "  'The Post cited people familiar with the investigation as saying that federal agents were looking for classified documents related to nuclear weapons',\n",
        "  'But it turns out that Trump did take such material from the White House.',\n",
        "  'No one will reap except what they sow.'\n",
        "]"
      ]
    },
    {
      "cell_type": "code",
      "execution_count": null,
      "metadata": {
        "id": "wpMHwgphy2qy"
      },
      "outputs": [],
      "source": [
        "passage_carter = \"\"\"Sam squinted against the sun at the distant dust trail raked up by the car on its way up to the Big House. The horses kicked and flicked their tails at flies, not caring about their owner's first visit in ten months. Sam waited. Mr Carter didn't come out here unless he had to, which was just fine by Sam. The more he kept out of his boss's way, the longer he'd have a job.\n",
        "Carter came by later while Sam was chopping wood. Carter lifted his hat as if he were waiting for an appointment with the town priest, and then removed it completely as if he were talking to his mother. He pulled out a pile of paper from his back pocket and held it out.\n",
        "'Don't pick up your mail often, do you?'\n",
        "Sam took it without a glance and dropped the envelopes onto the bench.\n",
        "'Never,' he replied and waited for Carter to say why he was here. The fact it was Carter's house was no explanation and they both knew it. Carter twisted his hat round and round, licking his lips and clearing his throat.\n",
        "'Nice work fixing those fences,' he said finally.\n",
        "'I'll be back to the beginning soon,' Sam said. It wasn't a complaint. A fence that took a year to repair meant another year's work to the man who did it well.\n",
        "'Don't you ever want to take a holiday?'\n",
        "'And go where?' A holiday meant being back out in the real world, a place even people like Carter travelled to escape from. Sam's escape was his reality and he wasn't going back.\n",
        "Mr Carter wiped the sweat from the back of his neck. The damp patches on his shirt drew together like shapes in an atlas. His skin was already turning ruddy in the June sun. Otherwise he had the indoor tan of a man that made money while other people did the work.\n",
        "'I've brought my son with me on this trip. He's had some trouble at school.' Mr Carter's eyes flicked up, blinked rapidly and then shifted back to the hat occupying his hands. 'Not much trouble out here for a young boy.' He attempted a laugh but it came out like a dog's bark.\n",
        "The two men looked towards the northern end of the property. It stretched as far as the eye could see. Even the fences were barely visible from where they stood. However bored and rebellious a teenage boy might get, it wasn't possible to escape on foot. Sam looked at the biggest of the horses, kicking at the ground with its heavy hooves. Could the boy ride? he wondered. There was a whole load of trouble a good rider could get into out here, miles away from anyone. But maybe there was even more trouble for someone who knew nothing about horses and wanted to get away from his father.\"\"\""
      ]
    },
    {
      "cell_type": "code",
      "execution_count": null,
      "metadata": {
        "id": "z8L-s4fUzO85"
      },
      "outputs": [],
      "source": [
        "passage_carnegie = \"\"\"A man was warned by an officer for not putting his dog on a leash. Some days later, he was caught with the same offence. Rather than wait for the officer to start speaking, he took the initiative by admitting his mistake, “Officer, you’ve caught me red-handed. I’m guilty. I have no excuses.”  The chances are, when you begin to condemn yourself, the officer would want to feel important and nourish his self-esteem by showing you mercy.\n",
        "\n",
        "During a course in human relations, a class wrote down criticisms to a certain man to let him see himself as others see him. One man was broken-hearted because he was denounced for being too sure of himself, too self-centered, too domineering, an egoist, trouble-maker, and a communist. One of his critics ordered him to get out of class. Instead of denouncing his critics, he said, “Boys, I certainly am unpopular. There can be no mistaking that. It hurts me to read these comments, but they are good for me. They have taught me a lesson. I long for friends just as you do. I want to make people like me. Won’t you help me? Won’t you please write me some more criticisms and tell me what I can do to improve my personality? If you will, I’ll try hard, awfully hard, to change.” Because of his soft answer and his sincerity, his words moved his critics – the very men who had denounced him one week earlier were now ready to support him.\"\"\""
      ]
    },
    {
      "cell_type": "markdown",
      "metadata": {
        "id": "KXfJMbp9f3as"
      },
      "source": [
        "### Load Model"
      ]
    },
    {
      "cell_type": "code",
      "execution_count": null,
      "metadata": {
        "id": "e8tDGcrNf7ms"
      },
      "outputs": [],
      "source": [
        "!wget -q https://placeholder.com/rnn.h5\n",
        "!wget -q https://placeholder.com/corpus.model"
      ]
    },
    {
      "cell_type": "code",
      "execution_count": null,
      "metadata": {
        "id": "2j5qFX9WiaYS"
      },
      "outputs": [],
      "source": [
        "model = load_model('rnn.h5')\n",
        "corpus = pickle.load(open('corpus.model', 'rb'))"
      ]
    },
    {
      "cell_type": "code",
      "execution_count": null,
      "metadata": {
        "id": "t3iTbIk_qJ6B"
      },
      "outputs": [],
      "source": [
        "max_words = 30000\n",
        "max_len = 200\n",
        "\n",
        "tokenizer = kprocessing.text.Tokenizer(lower=True, split=' ', num_words=max_words, oov_token=\"<pad>\", filters='!\"#$%&()*+,-./:;<=>?@[\\\\]^_`{|}~\\t\\n')\n",
        "tokenizer.fit_on_texts(corpus)"
      ]
    },
    {
      "cell_type": "markdown",
      "metadata": {
        "id": "CMQ4rlCvf-4U"
      },
      "source": [
        "### Create Functions"
      ]
    },
    {
      "cell_type": "code",
      "execution_count": null,
      "metadata": {
        "id": "jgfzQoFbm3t6"
      },
      "outputs": [],
      "source": [
        "def sent_predict(sentences, tokenizer=tokenizer, threshold=0.5):\n",
        "  seq = kprocessing.sequence.pad_sequences(tokenizer.texts_to_sequences(sentences), maxlen=max_len)\n",
        "  predictions = model.predict(seq).reshape(-1)\n",
        "  predictions = dict(zip(sentences, predictions))\n",
        "  predictions = { key:float(value) for (key, value) in predictions.items() if value >= threshold }\n",
        "  return predictions"
      ]
    },
    {
      "cell_type": "code",
      "execution_count": null,
      "metadata": {
        "id": "iXyr46qZ7LJD"
      },
      "outputs": [],
      "source": [
        "def extract_quotes(text, threshold=0.5):\n",
        "  return sent_predict(sent_tokenize(text), threshold=threshold)"
      ]
    },
    {
      "cell_type": "code",
      "execution_count": null,
      "metadata": {
        "id": "4u3IlPOLhrvn"
      },
      "outputs": [],
      "source": [
        "def show_quotes(quotes):\n",
        "  df = pd.DataFrame(quotes.items(), columns=['Sentence', 'Probability'])\n",
        "  df.sort_values('Probability', ascending=False, ignore_index=True, inplace=True)\n",
        "  return df"
      ]
    },
    {
      "cell_type": "markdown",
      "metadata": {
        "id": "QZbWa66Ll0yA"
      },
      "source": [
        "## Test Extraction"
      ]
    },
    {
      "cell_type": "markdown",
      "metadata": {
        "id": "QD8qXVzMgRZc"
      },
      "source": [
        "### Extract Quotes"
      ]
    },
    {
      "cell_type": "code",
      "execution_count": null,
      "metadata": {
        "colab": {
          "base_uri": "https://localhost:8080/"
        },
        "id": "KP3wF4mdpXI1",
        "outputId": "cd678aa1-4781-402d-cab3-49ef7b30eb14"
      },
      "outputs": [
        {
          "output_type": "execute_result",
          "data": {
            "text/plain": [
              "{'A journey of a thousand miles begins with a single step.': 0.9970009326934814,\n",
              " 'Are you beginning a journey of a thousand steps tomorrow?': 0.9919606447219849,\n",
              " 'No one will reap except what they sow.': 0.9575396776199341}"
            ]
          },
          "metadata": {},
          "execution_count": 23
        }
      ],
      "source": [
        "output_test = sent_predict(sentences_test)\n",
        "output_test"
      ]
    },
    {
      "cell_type": "code",
      "execution_count": null,
      "metadata": {
        "colab": {
          "base_uri": "https://localhost:8080/"
        },
        "id": "yQEXMpqWzqen",
        "outputId": "e7281b5c-39cb-48ff-dd3b-87737207f61f"
      },
      "outputs": [
        {
          "output_type": "execute_result",
          "data": {
            "text/plain": [
              "{'Sam squinted against the sun at the distant dust trail raked up by the car on its way up to the Big House.': 0.8071490526199341,\n",
              " \"'Don't pick up your mail often, do you?'\": 0.8967397212982178,\n",
              " \"'Don't you ever want to take a holiday?'\": 0.8882098197937012,\n",
              " 'A holiday meant being back out in the real world, a place even people like Carter travelled to escape from.': 0.8992186784744263}"
            ]
          },
          "metadata": {},
          "execution_count": 24
        }
      ],
      "source": [
        "output_carter = extract_quotes(passage_carter)\n",
        "output_carter"
      ]
    },
    {
      "cell_type": "code",
      "execution_count": null,
      "metadata": {
        "colab": {
          "base_uri": "https://localhost:8080/"
        },
        "id": "hkCRs_X-z0fX",
        "outputId": "6880d9a2-8db3-4e2c-8a21-8f497fea45df"
      },
      "outputs": [
        {
          "output_type": "execute_result",
          "data": {
            "text/plain": [
              "{'I have no excuses.”  The chances are, when you begin to condemn yourself, the officer would want to feel important and nourish his self-esteem by showing you mercy.': 0.9042152166366577,\n",
              " 'It hurts me to read these comments, but they are good for me.': 0.7593796253204346,\n",
              " 'I long for friends just as you do.': 0.7520382404327393,\n",
              " 'I want to make people like me.': 0.9578741788864136,\n",
              " 'Won’t you please write me some more criticisms and tell me what I can do to improve my personality?': 0.9555157423019409,\n",
              " 'If you will, I’ll try hard, awfully hard, to change.” Because of his soft answer and his sincerity, his words moved his critics – the very men who had denounced him one week earlier were now ready to support him.': 0.8130112886428833}"
            ]
          },
          "metadata": {},
          "execution_count": 25
        }
      ],
      "source": [
        "output_carnegie = extract_quotes(passage_carnegie, threshold=0.5)\n",
        "output_carnegie"
      ]
    },
    {
      "cell_type": "markdown",
      "metadata": {
        "id": "B_OUaeRlhHxC"
      },
      "source": [
        "### Show Quotes"
      ]
    },
    {
      "cell_type": "code",
      "execution_count": null,
      "metadata": {
        "colab": {
          "base_uri": "https://localhost:8080/",
          "height": 143
        },
        "id": "_DJ4zH2-hbo_",
        "outputId": "66a4bc18-f9f0-4fc4-d1fa-4803d88799dd"
      },
      "outputs": [
        {
          "output_type": "execute_result",
          "data": {
            "text/plain": [
              "                                                    Sentence  Probability\n",
              "0   A journey of a thousand miles begins with a single step.     0.997001\n",
              "1  Are you beginning a journey of a thousand steps tomorrow?     0.991961\n",
              "2                     No one will reap except what they sow.     0.957540"
            ],
            "text/html": [
              "\n",
              "  <div id=\"df-9a5f6a49-367c-4d6f-ae96-85d3936a659d\">\n",
              "    <div class=\"colab-df-container\">\n",
              "      <div>\n",
              "<style scoped>\n",
              "    .dataframe tbody tr th:only-of-type {\n",
              "        vertical-align: middle;\n",
              "    }\n",
              "\n",
              "    .dataframe tbody tr th {\n",
              "        vertical-align: top;\n",
              "    }\n",
              "\n",
              "    .dataframe thead th {\n",
              "        text-align: right;\n",
              "    }\n",
              "</style>\n",
              "<table border=\"1\" class=\"dataframe\">\n",
              "  <thead>\n",
              "    <tr style=\"text-align: right;\">\n",
              "      <th></th>\n",
              "      <th>Sentence</th>\n",
              "      <th>Probability</th>\n",
              "    </tr>\n",
              "  </thead>\n",
              "  <tbody>\n",
              "    <tr>\n",
              "      <th>0</th>\n",
              "      <td>A journey of a thousand miles begins with a single step.</td>\n",
              "      <td>0.997001</td>\n",
              "    </tr>\n",
              "    <tr>\n",
              "      <th>1</th>\n",
              "      <td>Are you beginning a journey of a thousand steps tomorrow?</td>\n",
              "      <td>0.991961</td>\n",
              "    </tr>\n",
              "    <tr>\n",
              "      <th>2</th>\n",
              "      <td>No one will reap except what they sow.</td>\n",
              "      <td>0.957540</td>\n",
              "    </tr>\n",
              "  </tbody>\n",
              "</table>\n",
              "</div>\n",
              "      <button class=\"colab-df-convert\" onclick=\"convertToInteractive('df-9a5f6a49-367c-4d6f-ae96-85d3936a659d')\"\n",
              "              title=\"Convert this dataframe to an interactive table.\"\n",
              "              style=\"display:none;\">\n",
              "        \n",
              "  <svg xmlns=\"http://www.w3.org/2000/svg\" height=\"24px\"viewBox=\"0 0 24 24\"\n",
              "       width=\"24px\">\n",
              "    <path d=\"M0 0h24v24H0V0z\" fill=\"none\"/>\n",
              "    <path d=\"M18.56 5.44l.94 2.06.94-2.06 2.06-.94-2.06-.94-.94-2.06-.94 2.06-2.06.94zm-11 1L8.5 8.5l.94-2.06 2.06-.94-2.06-.94L8.5 2.5l-.94 2.06-2.06.94zm10 10l.94 2.06.94-2.06 2.06-.94-2.06-.94-.94-2.06-.94 2.06-2.06.94z\"/><path d=\"M17.41 7.96l-1.37-1.37c-.4-.4-.92-.59-1.43-.59-.52 0-1.04.2-1.43.59L10.3 9.45l-7.72 7.72c-.78.78-.78 2.05 0 2.83L4 21.41c.39.39.9.59 1.41.59.51 0 1.02-.2 1.41-.59l7.78-7.78 2.81-2.81c.8-.78.8-2.07 0-2.86zM5.41 20L4 18.59l7.72-7.72 1.47 1.35L5.41 20z\"/>\n",
              "  </svg>\n",
              "      </button>\n",
              "      \n",
              "  <style>\n",
              "    .colab-df-container {\n",
              "      display:flex;\n",
              "      flex-wrap:wrap;\n",
              "      gap: 12px;\n",
              "    }\n",
              "\n",
              "    .colab-df-convert {\n",
              "      background-color: #E8F0FE;\n",
              "      border: none;\n",
              "      border-radius: 50%;\n",
              "      cursor: pointer;\n",
              "      display: none;\n",
              "      fill: #1967D2;\n",
              "      height: 32px;\n",
              "      padding: 0 0 0 0;\n",
              "      width: 32px;\n",
              "    }\n",
              "\n",
              "    .colab-df-convert:hover {\n",
              "      background-color: #E2EBFA;\n",
              "      box-shadow: 0px 1px 2px rgba(60, 64, 67, 0.3), 0px 1px 3px 1px rgba(60, 64, 67, 0.15);\n",
              "      fill: #174EA6;\n",
              "    }\n",
              "\n",
              "    [theme=dark] .colab-df-convert {\n",
              "      background-color: #3B4455;\n",
              "      fill: #D2E3FC;\n",
              "    }\n",
              "\n",
              "    [theme=dark] .colab-df-convert:hover {\n",
              "      background-color: #434B5C;\n",
              "      box-shadow: 0px 1px 3px 1px rgba(0, 0, 0, 0.15);\n",
              "      filter: drop-shadow(0px 1px 2px rgba(0, 0, 0, 0.3));\n",
              "      fill: #FFFFFF;\n",
              "    }\n",
              "  </style>\n",
              "\n",
              "      <script>\n",
              "        const buttonEl =\n",
              "          document.querySelector('#df-9a5f6a49-367c-4d6f-ae96-85d3936a659d button.colab-df-convert');\n",
              "        buttonEl.style.display =\n",
              "          google.colab.kernel.accessAllowed ? 'block' : 'none';\n",
              "\n",
              "        async function convertToInteractive(key) {\n",
              "          const element = document.querySelector('#df-9a5f6a49-367c-4d6f-ae96-85d3936a659d');\n",
              "          const dataTable =\n",
              "            await google.colab.kernel.invokeFunction('convertToInteractive',\n",
              "                                                     [key], {});\n",
              "          if (!dataTable) return;\n",
              "\n",
              "          const docLinkHtml = 'Like what you see? Visit the ' +\n",
              "            '<a target=\"_blank\" href=https://colab.research.google.com/notebooks/data_table.ipynb>data table notebook</a>'\n",
              "            + ' to learn more about interactive tables.';\n",
              "          element.innerHTML = '';\n",
              "          dataTable['output_type'] = 'display_data';\n",
              "          await google.colab.output.renderOutput(dataTable, element);\n",
              "          const docLink = document.createElement('div');\n",
              "          docLink.innerHTML = docLinkHtml;\n",
              "          element.appendChild(docLink);\n",
              "        }\n",
              "      </script>\n",
              "    </div>\n",
              "  </div>\n",
              "  "
            ]
          },
          "metadata": {},
          "execution_count": 26
        }
      ],
      "source": [
        "show_quotes(output_test)"
      ]
    },
    {
      "cell_type": "code",
      "execution_count": null,
      "metadata": {
        "colab": {
          "base_uri": "https://localhost:8080/",
          "height": 175
        },
        "id": "deuKlB9C0rdV",
        "outputId": "78538341-e02c-4614-be71-47b705f3d23c"
      },
      "outputs": [
        {
          "output_type": "execute_result",
          "data": {
            "text/plain": [
              "                                                                                              Sentence  \\\n",
              "0  A holiday meant being back out in the real world, a place even people like Carter travelled to e...   \n",
              "1                                                             'Don't pick up your mail often, do you?'   \n",
              "2                                                             'Don't you ever want to take a holiday?'   \n",
              "3  Sam squinted against the sun at the distant dust trail raked up by the car on its way up to the ...   \n",
              "\n",
              "   Probability  \n",
              "0     0.899219  \n",
              "1     0.896740  \n",
              "2     0.888210  \n",
              "3     0.807149  "
            ],
            "text/html": [
              "\n",
              "  <div id=\"df-36015580-e646-481a-a8e8-9ea4ddc91357\">\n",
              "    <div class=\"colab-df-container\">\n",
              "      <div>\n",
              "<style scoped>\n",
              "    .dataframe tbody tr th:only-of-type {\n",
              "        vertical-align: middle;\n",
              "    }\n",
              "\n",
              "    .dataframe tbody tr th {\n",
              "        vertical-align: top;\n",
              "    }\n",
              "\n",
              "    .dataframe thead th {\n",
              "        text-align: right;\n",
              "    }\n",
              "</style>\n",
              "<table border=\"1\" class=\"dataframe\">\n",
              "  <thead>\n",
              "    <tr style=\"text-align: right;\">\n",
              "      <th></th>\n",
              "      <th>Sentence</th>\n",
              "      <th>Probability</th>\n",
              "    </tr>\n",
              "  </thead>\n",
              "  <tbody>\n",
              "    <tr>\n",
              "      <th>0</th>\n",
              "      <td>A holiday meant being back out in the real world, a place even people like Carter travelled to e...</td>\n",
              "      <td>0.899219</td>\n",
              "    </tr>\n",
              "    <tr>\n",
              "      <th>1</th>\n",
              "      <td>'Don't pick up your mail often, do you?'</td>\n",
              "      <td>0.896740</td>\n",
              "    </tr>\n",
              "    <tr>\n",
              "      <th>2</th>\n",
              "      <td>'Don't you ever want to take a holiday?'</td>\n",
              "      <td>0.888210</td>\n",
              "    </tr>\n",
              "    <tr>\n",
              "      <th>3</th>\n",
              "      <td>Sam squinted against the sun at the distant dust trail raked up by the car on its way up to the ...</td>\n",
              "      <td>0.807149</td>\n",
              "    </tr>\n",
              "  </tbody>\n",
              "</table>\n",
              "</div>\n",
              "      <button class=\"colab-df-convert\" onclick=\"convertToInteractive('df-36015580-e646-481a-a8e8-9ea4ddc91357')\"\n",
              "              title=\"Convert this dataframe to an interactive table.\"\n",
              "              style=\"display:none;\">\n",
              "        \n",
              "  <svg xmlns=\"http://www.w3.org/2000/svg\" height=\"24px\"viewBox=\"0 0 24 24\"\n",
              "       width=\"24px\">\n",
              "    <path d=\"M0 0h24v24H0V0z\" fill=\"none\"/>\n",
              "    <path d=\"M18.56 5.44l.94 2.06.94-2.06 2.06-.94-2.06-.94-.94-2.06-.94 2.06-2.06.94zm-11 1L8.5 8.5l.94-2.06 2.06-.94-2.06-.94L8.5 2.5l-.94 2.06-2.06.94zm10 10l.94 2.06.94-2.06 2.06-.94-2.06-.94-.94-2.06-.94 2.06-2.06.94z\"/><path d=\"M17.41 7.96l-1.37-1.37c-.4-.4-.92-.59-1.43-.59-.52 0-1.04.2-1.43.59L10.3 9.45l-7.72 7.72c-.78.78-.78 2.05 0 2.83L4 21.41c.39.39.9.59 1.41.59.51 0 1.02-.2 1.41-.59l7.78-7.78 2.81-2.81c.8-.78.8-2.07 0-2.86zM5.41 20L4 18.59l7.72-7.72 1.47 1.35L5.41 20z\"/>\n",
              "  </svg>\n",
              "      </button>\n",
              "      \n",
              "  <style>\n",
              "    .colab-df-container {\n",
              "      display:flex;\n",
              "      flex-wrap:wrap;\n",
              "      gap: 12px;\n",
              "    }\n",
              "\n",
              "    .colab-df-convert {\n",
              "      background-color: #E8F0FE;\n",
              "      border: none;\n",
              "      border-radius: 50%;\n",
              "      cursor: pointer;\n",
              "      display: none;\n",
              "      fill: #1967D2;\n",
              "      height: 32px;\n",
              "      padding: 0 0 0 0;\n",
              "      width: 32px;\n",
              "    }\n",
              "\n",
              "    .colab-df-convert:hover {\n",
              "      background-color: #E2EBFA;\n",
              "      box-shadow: 0px 1px 2px rgba(60, 64, 67, 0.3), 0px 1px 3px 1px rgba(60, 64, 67, 0.15);\n",
              "      fill: #174EA6;\n",
              "    }\n",
              "\n",
              "    [theme=dark] .colab-df-convert {\n",
              "      background-color: #3B4455;\n",
              "      fill: #D2E3FC;\n",
              "    }\n",
              "\n",
              "    [theme=dark] .colab-df-convert:hover {\n",
              "      background-color: #434B5C;\n",
              "      box-shadow: 0px 1px 3px 1px rgba(0, 0, 0, 0.15);\n",
              "      filter: drop-shadow(0px 1px 2px rgba(0, 0, 0, 0.3));\n",
              "      fill: #FFFFFF;\n",
              "    }\n",
              "  </style>\n",
              "\n",
              "      <script>\n",
              "        const buttonEl =\n",
              "          document.querySelector('#df-36015580-e646-481a-a8e8-9ea4ddc91357 button.colab-df-convert');\n",
              "        buttonEl.style.display =\n",
              "          google.colab.kernel.accessAllowed ? 'block' : 'none';\n",
              "\n",
              "        async function convertToInteractive(key) {\n",
              "          const element = document.querySelector('#df-36015580-e646-481a-a8e8-9ea4ddc91357');\n",
              "          const dataTable =\n",
              "            await google.colab.kernel.invokeFunction('convertToInteractive',\n",
              "                                                     [key], {});\n",
              "          if (!dataTable) return;\n",
              "\n",
              "          const docLinkHtml = 'Like what you see? Visit the ' +\n",
              "            '<a target=\"_blank\" href=https://colab.research.google.com/notebooks/data_table.ipynb>data table notebook</a>'\n",
              "            + ' to learn more about interactive tables.';\n",
              "          element.innerHTML = '';\n",
              "          dataTable['output_type'] = 'display_data';\n",
              "          await google.colab.output.renderOutput(dataTable, element);\n",
              "          const docLink = document.createElement('div');\n",
              "          docLink.innerHTML = docLinkHtml;\n",
              "          element.appendChild(docLink);\n",
              "        }\n",
              "      </script>\n",
              "    </div>\n",
              "  </div>\n",
              "  "
            ]
          },
          "metadata": {},
          "execution_count": 27
        }
      ],
      "source": [
        "show_quotes(output_carter)"
      ]
    },
    {
      "cell_type": "code",
      "execution_count": null,
      "metadata": {
        "colab": {
          "base_uri": "https://localhost:8080/",
          "height": 237
        },
        "id": "_gBH0ldl_nVP",
        "outputId": "f7ae9bdd-317e-4c30-84e0-5552bd315edf"
      },
      "outputs": [
        {
          "output_type": "execute_result",
          "data": {
            "text/plain": [
              "                                                                                              Sentence  \\\n",
              "0                                                                       I want to make people like me.   \n",
              "1  Won’t you please write me some more criticisms and tell me what I can do to improve my personality?   \n",
              "2  I have no excuses.”  The chances are, when you begin to condemn yourself, the officer would want...   \n",
              "3  If you will, I’ll try hard, awfully hard, to change.” Because of his soft answer and his sinceri...   \n",
              "4                                        It hurts me to read these comments, but they are good for me.   \n",
              "5                                                                   I long for friends just as you do.   \n",
              "\n",
              "   Probability  \n",
              "0     0.957874  \n",
              "1     0.955516  \n",
              "2     0.904215  \n",
              "3     0.813011  \n",
              "4     0.759380  \n",
              "5     0.752038  "
            ],
            "text/html": [
              "\n",
              "  <div id=\"df-560f91a9-b328-48b3-b4ea-0c6a2585041c\">\n",
              "    <div class=\"colab-df-container\">\n",
              "      <div>\n",
              "<style scoped>\n",
              "    .dataframe tbody tr th:only-of-type {\n",
              "        vertical-align: middle;\n",
              "    }\n",
              "\n",
              "    .dataframe tbody tr th {\n",
              "        vertical-align: top;\n",
              "    }\n",
              "\n",
              "    .dataframe thead th {\n",
              "        text-align: right;\n",
              "    }\n",
              "</style>\n",
              "<table border=\"1\" class=\"dataframe\">\n",
              "  <thead>\n",
              "    <tr style=\"text-align: right;\">\n",
              "      <th></th>\n",
              "      <th>Sentence</th>\n",
              "      <th>Probability</th>\n",
              "    </tr>\n",
              "  </thead>\n",
              "  <tbody>\n",
              "    <tr>\n",
              "      <th>0</th>\n",
              "      <td>I want to make people like me.</td>\n",
              "      <td>0.957874</td>\n",
              "    </tr>\n",
              "    <tr>\n",
              "      <th>1</th>\n",
              "      <td>Won’t you please write me some more criticisms and tell me what I can do to improve my personality?</td>\n",
              "      <td>0.955516</td>\n",
              "    </tr>\n",
              "    <tr>\n",
              "      <th>2</th>\n",
              "      <td>I have no excuses.”  The chances are, when you begin to condemn yourself, the officer would want...</td>\n",
              "      <td>0.904215</td>\n",
              "    </tr>\n",
              "    <tr>\n",
              "      <th>3</th>\n",
              "      <td>If you will, I’ll try hard, awfully hard, to change.” Because of his soft answer and his sinceri...</td>\n",
              "      <td>0.813011</td>\n",
              "    </tr>\n",
              "    <tr>\n",
              "      <th>4</th>\n",
              "      <td>It hurts me to read these comments, but they are good for me.</td>\n",
              "      <td>0.759380</td>\n",
              "    </tr>\n",
              "    <tr>\n",
              "      <th>5</th>\n",
              "      <td>I long for friends just as you do.</td>\n",
              "      <td>0.752038</td>\n",
              "    </tr>\n",
              "  </tbody>\n",
              "</table>\n",
              "</div>\n",
              "      <button class=\"colab-df-convert\" onclick=\"convertToInteractive('df-560f91a9-b328-48b3-b4ea-0c6a2585041c')\"\n",
              "              title=\"Convert this dataframe to an interactive table.\"\n",
              "              style=\"display:none;\">\n",
              "        \n",
              "  <svg xmlns=\"http://www.w3.org/2000/svg\" height=\"24px\"viewBox=\"0 0 24 24\"\n",
              "       width=\"24px\">\n",
              "    <path d=\"M0 0h24v24H0V0z\" fill=\"none\"/>\n",
              "    <path d=\"M18.56 5.44l.94 2.06.94-2.06 2.06-.94-2.06-.94-.94-2.06-.94 2.06-2.06.94zm-11 1L8.5 8.5l.94-2.06 2.06-.94-2.06-.94L8.5 2.5l-.94 2.06-2.06.94zm10 10l.94 2.06.94-2.06 2.06-.94-2.06-.94-.94-2.06-.94 2.06-2.06.94z\"/><path d=\"M17.41 7.96l-1.37-1.37c-.4-.4-.92-.59-1.43-.59-.52 0-1.04.2-1.43.59L10.3 9.45l-7.72 7.72c-.78.78-.78 2.05 0 2.83L4 21.41c.39.39.9.59 1.41.59.51 0 1.02-.2 1.41-.59l7.78-7.78 2.81-2.81c.8-.78.8-2.07 0-2.86zM5.41 20L4 18.59l7.72-7.72 1.47 1.35L5.41 20z\"/>\n",
              "  </svg>\n",
              "      </button>\n",
              "      \n",
              "  <style>\n",
              "    .colab-df-container {\n",
              "      display:flex;\n",
              "      flex-wrap:wrap;\n",
              "      gap: 12px;\n",
              "    }\n",
              "\n",
              "    .colab-df-convert {\n",
              "      background-color: #E8F0FE;\n",
              "      border: none;\n",
              "      border-radius: 50%;\n",
              "      cursor: pointer;\n",
              "      display: none;\n",
              "      fill: #1967D2;\n",
              "      height: 32px;\n",
              "      padding: 0 0 0 0;\n",
              "      width: 32px;\n",
              "    }\n",
              "\n",
              "    .colab-df-convert:hover {\n",
              "      background-color: #E2EBFA;\n",
              "      box-shadow: 0px 1px 2px rgba(60, 64, 67, 0.3), 0px 1px 3px 1px rgba(60, 64, 67, 0.15);\n",
              "      fill: #174EA6;\n",
              "    }\n",
              "\n",
              "    [theme=dark] .colab-df-convert {\n",
              "      background-color: #3B4455;\n",
              "      fill: #D2E3FC;\n",
              "    }\n",
              "\n",
              "    [theme=dark] .colab-df-convert:hover {\n",
              "      background-color: #434B5C;\n",
              "      box-shadow: 0px 1px 3px 1px rgba(0, 0, 0, 0.15);\n",
              "      filter: drop-shadow(0px 1px 2px rgba(0, 0, 0, 0.3));\n",
              "      fill: #FFFFFF;\n",
              "    }\n",
              "  </style>\n",
              "\n",
              "      <script>\n",
              "        const buttonEl =\n",
              "          document.querySelector('#df-560f91a9-b328-48b3-b4ea-0c6a2585041c button.colab-df-convert');\n",
              "        buttonEl.style.display =\n",
              "          google.colab.kernel.accessAllowed ? 'block' : 'none';\n",
              "\n",
              "        async function convertToInteractive(key) {\n",
              "          const element = document.querySelector('#df-560f91a9-b328-48b3-b4ea-0c6a2585041c');\n",
              "          const dataTable =\n",
              "            await google.colab.kernel.invokeFunction('convertToInteractive',\n",
              "                                                     [key], {});\n",
              "          if (!dataTable) return;\n",
              "\n",
              "          const docLinkHtml = 'Like what you see? Visit the ' +\n",
              "            '<a target=\"_blank\" href=https://colab.research.google.com/notebooks/data_table.ipynb>data table notebook</a>'\n",
              "            + ' to learn more about interactive tables.';\n",
              "          element.innerHTML = '';\n",
              "          dataTable['output_type'] = 'display_data';\n",
              "          await google.colab.output.renderOutput(dataTable, element);\n",
              "          const docLink = document.createElement('div');\n",
              "          docLink.innerHTML = docLinkHtml;\n",
              "          element.appendChild(docLink);\n",
              "        }\n",
              "      </script>\n",
              "    </div>\n",
              "  </div>\n",
              "  "
            ]
          },
          "metadata": {},
          "execution_count": 28
        }
      ],
      "source": [
        "show_quotes(output_carnegie)"
      ]
    },
    {
      "cell_type": "code",
      "execution_count": null,
      "metadata": {
        "id": "x-lP6Iu50wbb"
      },
      "outputs": [],
      "source": [
        ""
      ]
    },
    {
      "cell_type": "markdown",
      "metadata": {
        "id": "yP4-8cQSlb63"
      },
      "source": [
        "## Deploy API"
      ]
    },
    {
      "cell_type": "code",
      "execution_count": null,
      "metadata": {
        "id": "RlEdo1iOxpCc"
      },
      "outputs": [],
      "source": [
        "app = Flask(__name__)\n",
        "run_with_ngrok(app)"
      ]
    },
    {
      "cell_type": "code",
      "execution_count": null,
      "metadata": {
        "id": "LNkp47xhxrUs"
      },
      "outputs": [],
      "source": [
        "@app.route('/', methods=['GET', 'POST'])\n",
        "def home():\n",
        "  return jsonify(output_test)"
      ]
    },
    {
      "cell_type": "code",
      "execution_count": null,
      "metadata": {
        "id": "6Jhe0t1R_nnK"
      },
      "outputs": [],
      "source": [
        "@app.route('/api', methods=['POST'])\n",
        "def api():\n",
        "  if request.form.get('data'):\n",
        "    data = request.form['data']\n",
        "    threshold = 0.5\n",
        "\n",
        "    if request.form.get('threshold'):\n",
        "      th = request.form['threshold']\n",
        "\n",
        "      try:\n",
        "        th = float(th)\n",
        "        \n",
        "        if th >= 0.0 and th <= 1.0:\n",
        "          threshold = th\n",
        "\n",
        "      except ValueError:\n",
        "        pass\n",
        "\n",
        "    quotes = extract_quotes(data, threshold=threshold)\n",
        "    return quotes\n",
        "  else:\n",
        "    return 'Please include text in the POST request.', 401"
      ]
    },
    {
      "cell_type": "code",
      "execution_count": null,
      "metadata": {
        "colab": {
          "base_uri": "https://localhost:8080/"
        },
        "id": "R1PlFe1mxwMZ",
        "outputId": "23e5fbe2-2928-4cb1-d694-0494ddb86b0e"
      },
      "outputs": [
        {
          "output_type": "stream",
          "name": "stdout",
          "text": [
            " * Serving Flask app \"__main__\" (lazy loading)\n",
            " * Environment: production\n",
            "\u001b[31m   WARNING: This is a development server. Do not use it in a production deployment.\u001b[0m\n",
            "\u001b[2m   Use a production WSGI server instead.\u001b[0m\n",
            " * Debug mode: off\n"
          ]
        },
        {
          "output_type": "stream",
          "name": "stderr",
          "text": [
            "INFO:werkzeug: * Running on http://127.0.0.1:5000/ (Press CTRL+C to quit)\n"
          ]
        },
        {
          "output_type": "stream",
          "name": "stdout",
          "text": [
            " * Running on http://334a-35-194-85-139.ngrok.io\n",
            " * Traffic stats available on http://127.0.0.1:4040\n"
          ]
        }
      ],
      "source": [
        "if __name__ == '__main__':\n",
        "  app.run()"
      ]
    },
    {
      "cell_type": "code",
      "execution_count": null,
      "metadata": {
        "id": "QHI4RjvQDSZP"
      },
      "outputs": [],
      "source": [
        ""
      ]
    }
  ],
  "metadata": {
    "colab": {
      "collapsed_sections": [],
      "name": "quote_deploy.ipynb",
      "toc_visible": true,
      "provenance": []
    },
    "kernelspec": {
      "display_name": "Python 3",
      "name": "python3"
    },
    "language_info": {
      "name": "python"
    }
  },
  "nbformat": 4,
  "nbformat_minor": 0
}