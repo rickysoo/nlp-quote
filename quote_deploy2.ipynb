{
  "cells": [
    {
      "cell_type": "markdown",
      "metadata": {
        "id": "JCAaH2F2ebu3"
      },
      "source": [
        "# Automated Extraction of Quotations From Text - Model Deployment"
      ]
    },
    {
      "cell_type": "markdown",
      "metadata": {
        "id": "o6W70NZHebiJ"
      },
      "source": [
        "The purpose is to develop an Application Programming Interface (API) from the selected model to predict and extract quotations from text. The model is loaded, extracting of quotes is tested, then the API is deployed using ngrok to be tested in the Postman app."
      ]
    },
    {
      "cell_type": "markdown",
      "metadata": {
        "id": "qO4WavAZlurL"
      },
      "source": [
        "## Prepare API"
      ]
    },
    {
      "cell_type": "markdown",
      "metadata": {
        "id": "G7RZvyM0fuTH"
      },
      "source": [
        "### Load Libraries"
      ]
    },
    {
      "cell_type": "code",
      "execution_count": null,
      "metadata": {
        "id": "wS-1JUWz-9fD",
        "colab": {
          "base_uri": "https://localhost:8080/"
        },
        "outputId": "63cefeac-ebeb-445f-a094-571ede3d2482"
      },
      "outputs": [
        {
          "output_type": "stream",
          "name": "stdout",
          "text": [
            "\u001b[?25l\r\u001b[K     |▍                               | 10 kB 23.1 MB/s eta 0:00:01\r\u001b[K     |▉                               | 20 kB 6.6 MB/s eta 0:00:01\r\u001b[K     |█▎                              | 30 kB 9.3 MB/s eta 0:00:01\r\u001b[K     |█▊                              | 40 kB 4.4 MB/s eta 0:00:01\r\u001b[K     |██▏                             | 51 kB 4.3 MB/s eta 0:00:01\r\u001b[K     |██▋                             | 61 kB 5.1 MB/s eta 0:00:01\r\u001b[K     |███                             | 71 kB 5.3 MB/s eta 0:00:01\r\u001b[K     |███▌                            | 81 kB 4.3 MB/s eta 0:00:01\r\u001b[K     |████                            | 92 kB 4.7 MB/s eta 0:00:01\r\u001b[K     |████▍                           | 102 kB 5.1 MB/s eta 0:00:01\r\u001b[K     |████▉                           | 112 kB 5.1 MB/s eta 0:00:01\r\u001b[K     |█████▎                          | 122 kB 5.1 MB/s eta 0:00:01\r\u001b[K     |█████▊                          | 133 kB 5.1 MB/s eta 0:00:01\r\u001b[K     |██████▏                         | 143 kB 5.1 MB/s eta 0:00:01\r\u001b[K     |██████▋                         | 153 kB 5.1 MB/s eta 0:00:01\r\u001b[K     |███████                         | 163 kB 5.1 MB/s eta 0:00:01\r\u001b[K     |███████▌                        | 174 kB 5.1 MB/s eta 0:00:01\r\u001b[K     |████████                        | 184 kB 5.1 MB/s eta 0:00:01\r\u001b[K     |████████▍                       | 194 kB 5.1 MB/s eta 0:00:01\r\u001b[K     |████████▉                       | 204 kB 5.1 MB/s eta 0:00:01\r\u001b[K     |█████████▎                      | 215 kB 5.1 MB/s eta 0:00:01\r\u001b[K     |█████████▊                      | 225 kB 5.1 MB/s eta 0:00:01\r\u001b[K     |██████████▏                     | 235 kB 5.1 MB/s eta 0:00:01\r\u001b[K     |██████████▌                     | 245 kB 5.1 MB/s eta 0:00:01\r\u001b[K     |███████████                     | 256 kB 5.1 MB/s eta 0:00:01\r\u001b[K     |███████████▍                    | 266 kB 5.1 MB/s eta 0:00:01\r\u001b[K     |███████████▉                    | 276 kB 5.1 MB/s eta 0:00:01\r\u001b[K     |████████████▎                   | 286 kB 5.1 MB/s eta 0:00:01\r\u001b[K     |████████████▊                   | 296 kB 5.1 MB/s eta 0:00:01\r\u001b[K     |█████████████▏                  | 307 kB 5.1 MB/s eta 0:00:01\r\u001b[K     |█████████████▋                  | 317 kB 5.1 MB/s eta 0:00:01\r\u001b[K     |██████████████                  | 327 kB 5.1 MB/s eta 0:00:01\r\u001b[K     |██████████████▌                 | 337 kB 5.1 MB/s eta 0:00:01\r\u001b[K     |███████████████                 | 348 kB 5.1 MB/s eta 0:00:01\r\u001b[K     |███████████████▍                | 358 kB 5.1 MB/s eta 0:00:01\r\u001b[K     |███████████████▉                | 368 kB 5.1 MB/s eta 0:00:01\r\u001b[K     |████████████████▎               | 378 kB 5.1 MB/s eta 0:00:01\r\u001b[K     |████████████████▊               | 389 kB 5.1 MB/s eta 0:00:01\r\u001b[K     |█████████████████▏              | 399 kB 5.1 MB/s eta 0:00:01\r\u001b[K     |█████████████████▋              | 409 kB 5.1 MB/s eta 0:00:01\r\u001b[K     |██████████████████              | 419 kB 5.1 MB/s eta 0:00:01\r\u001b[K     |██████████████████▌             | 430 kB 5.1 MB/s eta 0:00:01\r\u001b[K     |███████████████████             | 440 kB 5.1 MB/s eta 0:00:01\r\u001b[K     |███████████████████▍            | 450 kB 5.1 MB/s eta 0:00:01\r\u001b[K     |███████████████████▉            | 460 kB 5.1 MB/s eta 0:00:01\r\u001b[K     |████████████████████▎           | 471 kB 5.1 MB/s eta 0:00:01\r\u001b[K     |████████████████████▋           | 481 kB 5.1 MB/s eta 0:00:01\r\u001b[K     |█████████████████████           | 491 kB 5.1 MB/s eta 0:00:01\r\u001b[K     |█████████████████████▌          | 501 kB 5.1 MB/s eta 0:00:01\r\u001b[K     |██████████████████████          | 512 kB 5.1 MB/s eta 0:00:01\r\u001b[K     |██████████████████████▍         | 522 kB 5.1 MB/s eta 0:00:01\r\u001b[K     |██████████████████████▉         | 532 kB 5.1 MB/s eta 0:00:01\r\u001b[K     |███████████████████████▎        | 542 kB 5.1 MB/s eta 0:00:01\r\u001b[K     |███████████████████████▊        | 552 kB 5.1 MB/s eta 0:00:01\r\u001b[K     |████████████████████████▏       | 563 kB 5.1 MB/s eta 0:00:01\r\u001b[K     |████████████████████████▋       | 573 kB 5.1 MB/s eta 0:00:01\r\u001b[K     |█████████████████████████       | 583 kB 5.1 MB/s eta 0:00:01\r\u001b[K     |█████████████████████████▌      | 593 kB 5.1 MB/s eta 0:00:01\r\u001b[K     |██████████████████████████      | 604 kB 5.1 MB/s eta 0:00:01\r\u001b[K     |██████████████████████████▍     | 614 kB 5.1 MB/s eta 0:00:01\r\u001b[K     |██████████████████████████▉     | 624 kB 5.1 MB/s eta 0:00:01\r\u001b[K     |███████████████████████████▎    | 634 kB 5.1 MB/s eta 0:00:01\r\u001b[K     |███████████████████████████▊    | 645 kB 5.1 MB/s eta 0:00:01\r\u001b[K     |████████████████████████████▏   | 655 kB 5.1 MB/s eta 0:00:01\r\u001b[K     |████████████████████████████▋   | 665 kB 5.1 MB/s eta 0:00:01\r\u001b[K     |█████████████████████████████   | 675 kB 5.1 MB/s eta 0:00:01\r\u001b[K     |█████████████████████████████▌  | 686 kB 5.1 MB/s eta 0:00:01\r\u001b[K     |██████████████████████████████  | 696 kB 5.1 MB/s eta 0:00:01\r\u001b[K     |██████████████████████████████▍ | 706 kB 5.1 MB/s eta 0:00:01\r\u001b[K     |██████████████████████████████▊ | 716 kB 5.1 MB/s eta 0:00:01\r\u001b[K     |███████████████████████████████▏| 727 kB 5.1 MB/s eta 0:00:01\r\u001b[K     |███████████████████████████████▋| 737 kB 5.1 MB/s eta 0:00:01\r\u001b[K     |████████████████████████████████| 745 kB 5.1 MB/s \n",
            "\u001b[?25h  Building wheel for pyngrok (setup.py) ... \u001b[?25l\u001b[?25hdone\n"
          ]
        }
      ],
      "source": [
        "!pip install --quiet pyngrok flask_ngrok"
      ]
    },
    {
      "cell_type": "markdown",
      "source": [
        "Get your ngrok token at https://ngrok.com"
      ],
      "metadata": {
        "id": "J6uOUv-di29n"
      }
    },
    {
      "cell_type": "code",
      "source": [
        "Authtoken = input('Authtoken: ')"
      ],
      "metadata": {
        "colab": {
          "base_uri": "https://localhost:8080/"
        },
        "id": "xtbN5i3lNbqE",
        "outputId": "6a7aca99-c48e-400d-f384-c328b0ea7832"
      },
      "execution_count": null,
      "outputs": [
        {
          "name": "stdout",
          "output_type": "stream",
          "text": [
            "Authtoken: 2DJC8MlJS4q66Axo3tgtBW593kj_9qVkY8fsfG3cExgZYLaN\n"
          ]
        }
      ]
    },
    {
      "cell_type": "code",
      "execution_count": null,
      "metadata": {
        "colab": {
          "base_uri": "https://localhost:8080/"
        },
        "id": "0GgayziQD7S2",
        "outputId": "dc8133b8-a380-4b9a-9d44-3497fb5e8992"
      },
      "outputs": [
        {
          "output_type": "stream",
          "name": "stdout",
          "text": [
            "Authtoken saved to configuration file: /root/.ngrok2/ngrok.yml\n"
          ]
        }
      ],
      "source": [
        "!ngrok authtoken {Authtoken}"
      ]
    },
    {
      "cell_type": "code",
      "execution_count": null,
      "metadata": {
        "id": "khRE6bhEiTfg"
      },
      "outputs": [],
      "source": [
        "import pandas as pd\n",
        "import numpy as np\n",
        "\n",
        "from tensorflow.keras import preprocessing as kprocessing\n",
        "from tensorflow.keras.models import load_model\n",
        "\n",
        "import nltk\n",
        "from nltk.tokenize import sent_tokenize\n",
        "\n",
        "import pickle\n",
        "\n",
        "from flask_ngrok import run_with_ngrok\n",
        "from flask import Flask, render_template, request, jsonify"
      ]
    },
    {
      "cell_type": "code",
      "execution_count": null,
      "metadata": {
        "colab": {
          "base_uri": "https://localhost:8080/"
        },
        "id": "qo5kCJhLo5rm",
        "outputId": "5f23dedd-ce31-48df-99bc-a96492814fd0"
      },
      "outputs": [
        {
          "output_type": "stream",
          "name": "stderr",
          "text": [
            "[nltk_data] Downloading package punkt to /root/nltk_data...\n",
            "[nltk_data]   Unzipping tokenizers/punkt.zip.\n"
          ]
        },
        {
          "output_type": "execute_result",
          "data": {
            "text/plain": [
              "True"
            ]
          },
          "metadata": {},
          "execution_count": 5
        }
      ],
      "source": [
        "nltk.download('punkt')"
      ]
    },
    {
      "cell_type": "code",
      "execution_count": null,
      "metadata": {
        "id": "_DVhxYAbsj0m"
      },
      "outputs": [],
      "source": [
        "pd.options.display.max_colwidth = 100"
      ]
    },
    {
      "cell_type": "markdown",
      "metadata": {
        "id": "fZZD4vFJfztb"
      },
      "source": [
        "### Load Data"
      ]
    },
    {
      "cell_type": "code",
      "execution_count": null,
      "metadata": {
        "id": "OQk-YIDTi8T0"
      },
      "outputs": [],
      "source": [
        "sentences_test = [\n",
        "  'A journey of a thousand miles begins with a single step.',\n",
        "  'Are you beginning a journey of a thousand steps tomorrow?',\n",
        "  'The Post cited people familiar with the investigation as saying that federal agents were looking for classified documents related to nuclear weapons',\n",
        "  'But it turns out that Trump did take such material from the White House.',\n",
        "  'No one will reap except what they sow.'\n",
        "]"
      ]
    },
    {
      "cell_type": "code",
      "execution_count": null,
      "metadata": {
        "id": "wpMHwgphy2qy"
      },
      "outputs": [],
      "source": [
        "passage_carter = \"\"\"Sam squinted against the sun at the distant dust trail raked up by the car on its way up to the Big House. The horses kicked and flicked their tails at flies, not caring about their owner's first visit in ten months. Sam waited. Mr Carter didn't come out here unless he had to, which was just fine by Sam. The more he kept out of his boss's way, the longer he'd have a job.\n",
        "Carter came by later while Sam was chopping wood. Carter lifted his hat as if he were waiting for an appointment with the town priest, and then removed it completely as if he were talking to his mother. He pulled out a pile of paper from his back pocket and held it out.\n",
        "'Don't pick up your mail often, do you?'\n",
        "Sam took it without a glance and dropped the envelopes onto the bench.\n",
        "'Never,' he replied and waited for Carter to say why he was here. The fact it was Carter's house was no explanation and they both knew it. Carter twisted his hat round and round, licking his lips and clearing his throat.\n",
        "'Nice work fixing those fences,' he said finally.\n",
        "'I'll be back to the beginning soon,' Sam said. It wasn't a complaint. A fence that took a year to repair meant another year's work to the man who did it well.\n",
        "'Don't you ever want to take a holiday?'\n",
        "'And go where?' A holiday meant being back out in the real world, a place even people like Carter travelled to escape from. Sam's escape was his reality and he wasn't going back.\n",
        "Mr Carter wiped the sweat from the back of his neck. The damp patches on his shirt drew together like shapes in an atlas. His skin was already turning ruddy in the June sun. Otherwise he had the indoor tan of a man that made money while other people did the work.\n",
        "'I've brought my son with me on this trip. He's had some trouble at school.' Mr Carter's eyes flicked up, blinked rapidly and then shifted back to the hat occupying his hands. 'Not much trouble out here for a young boy.' He attempted a laugh but it came out like a dog's bark.\n",
        "The two men looked towards the northern end of the property. It stretched as far as the eye could see. Even the fences were barely visible from where they stood. However bored and rebellious a teenage boy might get, it wasn't possible to escape on foot. Sam looked at the biggest of the horses, kicking at the ground with its heavy hooves. Could the boy ride? he wondered. There was a whole load of trouble a good rider could get into out here, miles away from anyone. But maybe there was even more trouble for someone who knew nothing about horses and wanted to get away from his father.\"\"\""
      ]
    },
    {
      "cell_type": "code",
      "execution_count": null,
      "metadata": {
        "id": "z8L-s4fUzO85"
      },
      "outputs": [],
      "source": [
        "passage_carnegie = \"\"\"A man was warned by an officer for not putting his dog on a leash. Some days later, he was caught with the same offence. Rather than wait for the officer to start speaking, he took the initiative by admitting his mistake, “Officer, you’ve caught me red-handed. I’m guilty. I have no excuses.”  The chances are, when you begin to condemn yourself, the officer would want to feel important and nourish his self-esteem by showing you mercy.\n",
        "\n",
        "During a course in human relations, a class wrote down criticisms to a certain man to let him see himself as others see him. One man was broken-hearted because he was denounced for being too sure of himself, too self-centered, too domineering, an egoist, trouble-maker, and a communist. One of his critics ordered him to get out of class. Instead of denouncing his critics, he said, “Boys, I certainly am unpopular. There can be no mistaking that. It hurts me to read these comments, but they are good for me. They have taught me a lesson. I long for friends just as you do. I want to make people like me. Won’t you help me? Won’t you please write me some more criticisms and tell me what I can do to improve my personality? If you will, I’ll try hard, awfully hard, to change.” Because of his soft answer and his sincerity, his words moved his critics – the very men who had denounced him one week earlier were now ready to support him.\"\"\""
      ]
    },
    {
      "cell_type": "markdown",
      "metadata": {
        "id": "KXfJMbp9f3as"
      },
      "source": [
        "### Load Model"
      ]
    },
    {
      "cell_type": "code",
      "source": [
        "def precision_m(y_true, y_pred):\n",
        "  true_positives = K.sum(K.round(K.clip(y_true * y_pred, 0, 1)))\n",
        "  predicted_positives = K.sum(K.round(K.clip(y_pred, 0, 1)))\n",
        "  precision = true_positives / (predicted_positives + K.epsilon())\n",
        "  return precision"
      ],
      "metadata": {
        "id": "_VpvELnf5T0y"
      },
      "execution_count": null,
      "outputs": []
    },
    {
      "cell_type": "code",
      "source": [
        "def recall_m(y_true, y_pred):\n",
        "  true_positives = K.sum(K.round(K.clip(y_true * y_pred, 0, 1)))\n",
        "  possible_positives = K.sum(K.round(K.clip(y_true, 0, 1)))\n",
        "  recall = true_positives / (possible_positives + K.epsilon())\n",
        "  return recall"
      ],
      "metadata": {
        "id": "daPPIL705V1q"
      },
      "execution_count": null,
      "outputs": []
    },
    {
      "cell_type": "code",
      "execution_count": null,
      "metadata": {
        "id": "2j5qFX9WiaYS"
      },
      "outputs": [],
      "source": [
        "model = load_model('rnn2.h5', custom_objects={'precision_m': precision_m, 'recall_m': recall_m})\n",
        "corpus = pickle.load(open('corpus.model', 'rb'))"
      ]
    },
    {
      "cell_type": "code",
      "execution_count": null,
      "metadata": {
        "id": "t3iTbIk_qJ6B"
      },
      "outputs": [],
      "source": [
        "max_words = 30000\n",
        "max_len = 200\n",
        "\n",
        "tokenizer = kprocessing.text.Tokenizer(lower=True, split=' ', num_words=max_words, oov_token=\"<pad>\", filters='!\"#$%&()*+,-./:;<=>?@[\\\\]^_`{|}~\\t\\n')\n",
        "tokenizer.fit_on_texts(corpus)"
      ]
    },
    {
      "cell_type": "markdown",
      "metadata": {
        "id": "CMQ4rlCvf-4U"
      },
      "source": [
        "### Create Functions"
      ]
    },
    {
      "cell_type": "code",
      "execution_count": null,
      "metadata": {
        "id": "jgfzQoFbm3t6"
      },
      "outputs": [],
      "source": [
        "def sent_predict(sentences, tokenizer=tokenizer, threshold=0.5):\n",
        "  seq = kprocessing.sequence.pad_sequences(tokenizer.texts_to_sequences(sentences), maxlen=max_len)\n",
        "  predictions = model.predict(seq).reshape(-1)\n",
        "  predictions = dict(zip(sentences, predictions))\n",
        "  predictions = { key:float(value) for (key, value) in predictions.items() if value >= threshold }\n",
        "  return predictions"
      ]
    },
    {
      "cell_type": "code",
      "execution_count": null,
      "metadata": {
        "id": "iXyr46qZ7LJD"
      },
      "outputs": [],
      "source": [
        "def extract_quotes(text, threshold=0.5):\n",
        "  return sent_predict(sent_tokenize(text), threshold=threshold)"
      ]
    },
    {
      "cell_type": "code",
      "execution_count": null,
      "metadata": {
        "id": "4u3IlPOLhrvn"
      },
      "outputs": [],
      "source": [
        "def show_quotes(quotes):\n",
        "  df = pd.DataFrame(quotes.items(), columns=['Sentence', 'Probability'])\n",
        "  df.sort_values('Probability', ascending=False, ignore_index=True, inplace=True)\n",
        "  return df"
      ]
    },
    {
      "cell_type": "markdown",
      "metadata": {
        "id": "QZbWa66Ll0yA"
      },
      "source": [
        "## Test Extraction"
      ]
    },
    {
      "cell_type": "markdown",
      "metadata": {
        "id": "QD8qXVzMgRZc"
      },
      "source": [
        "### Extract Quotes"
      ]
    },
    {
      "cell_type": "code",
      "execution_count": null,
      "metadata": {
        "colab": {
          "base_uri": "https://localhost:8080/"
        },
        "id": "KP3wF4mdpXI1",
        "outputId": "f64a3557-72d6-45c5-a1ce-b74283433880"
      },
      "outputs": [
        {
          "output_type": "execute_result",
          "data": {
            "text/plain": [
              "{'A journey of a thousand miles begins with a single step.': 0.852311372756958,\n",
              " 'Are you beginning a journey of a thousand steps tomorrow?': 0.908577561378479,\n",
              " 'No one will reap except what they sow.': 0.8904200792312622}"
            ]
          },
          "metadata": {},
          "execution_count": 20
        }
      ],
      "source": [
        "output_test = sent_predict(sentences_test)\n",
        "output_test"
      ]
    },
    {
      "cell_type": "code",
      "execution_count": null,
      "metadata": {
        "colab": {
          "base_uri": "https://localhost:8080/"
        },
        "id": "yQEXMpqWzqen",
        "outputId": "1dcff8ac-b28e-4140-f58d-4e0314edc3cb"
      },
      "outputs": [
        {
          "output_type": "execute_result",
          "data": {
            "text/plain": [
              "{\"'Don't pick up your mail often, do you?'\": 0.8530300855636597,\n",
              " \"'Don't you ever want to take a holiday?'\": 0.9149266481399536,\n",
              " 'A holiday meant being back out in the real world, a place even people like Carter travelled to escape from.': 0.6449960470199585}"
            ]
          },
          "metadata": {},
          "execution_count": 21
        }
      ],
      "source": [
        "output_carter = extract_quotes(passage_carter)\n",
        "output_carter"
      ]
    },
    {
      "cell_type": "code",
      "execution_count": null,
      "metadata": {
        "colab": {
          "base_uri": "https://localhost:8080/"
        },
        "id": "hkCRs_X-z0fX",
        "outputId": "9754bf6f-71c1-43dc-86fc-229789dab164"
      },
      "outputs": [
        {
          "output_type": "execute_result",
          "data": {
            "text/plain": [
              "{'I have no excuses.”  The chances are, when you begin to condemn yourself, the officer would want to feel important and nourish his self-esteem by showing you mercy.': 0.9010387659072876,\n",
              " 'There can be no mistaking that.': 0.5990920066833496,\n",
              " 'It hurts me to read these comments, but they are good for me.': 0.8571481704711914,\n",
              " 'They have taught me a lesson.': 0.7040182948112488,\n",
              " 'I long for friends just as you do.': 0.8302311301231384,\n",
              " 'I want to make people like me.': 0.6612051725387573,\n",
              " 'Won’t you help me?': 0.6056596040725708,\n",
              " 'Won’t you please write me some more criticisms and tell me what I can do to improve my personality?': 0.8897976279258728}"
            ]
          },
          "metadata": {},
          "execution_count": 22
        }
      ],
      "source": [
        "output_carnegie = extract_quotes(passage_carnegie, threshold=0.5)\n",
        "output_carnegie"
      ]
    },
    {
      "cell_type": "markdown",
      "metadata": {
        "id": "B_OUaeRlhHxC"
      },
      "source": [
        "### Show Quotes"
      ]
    },
    {
      "cell_type": "code",
      "execution_count": null,
      "metadata": {
        "colab": {
          "base_uri": "https://localhost:8080/",
          "height": 143
        },
        "id": "_DJ4zH2-hbo_",
        "outputId": "ffdd4059-4729-4df9-eb7a-6c5795214c73"
      },
      "outputs": [
        {
          "output_type": "execute_result",
          "data": {
            "text/plain": [
              "                                                    Sentence  Probability\n",
              "0  Are you beginning a journey of a thousand steps tomorrow?     0.908578\n",
              "1                     No one will reap except what they sow.     0.890420\n",
              "2   A journey of a thousand miles begins with a single step.     0.852311"
            ],
            "text/html": [
              "\n",
              "  <div id=\"df-0b095593-bd2a-4a87-9046-4f5df604f976\">\n",
              "    <div class=\"colab-df-container\">\n",
              "      <div>\n",
              "<style scoped>\n",
              "    .dataframe tbody tr th:only-of-type {\n",
              "        vertical-align: middle;\n",
              "    }\n",
              "\n",
              "    .dataframe tbody tr th {\n",
              "        vertical-align: top;\n",
              "    }\n",
              "\n",
              "    .dataframe thead th {\n",
              "        text-align: right;\n",
              "    }\n",
              "</style>\n",
              "<table border=\"1\" class=\"dataframe\">\n",
              "  <thead>\n",
              "    <tr style=\"text-align: right;\">\n",
              "      <th></th>\n",
              "      <th>Sentence</th>\n",
              "      <th>Probability</th>\n",
              "    </tr>\n",
              "  </thead>\n",
              "  <tbody>\n",
              "    <tr>\n",
              "      <th>0</th>\n",
              "      <td>Are you beginning a journey of a thousand steps tomorrow?</td>\n",
              "      <td>0.908578</td>\n",
              "    </tr>\n",
              "    <tr>\n",
              "      <th>1</th>\n",
              "      <td>No one will reap except what they sow.</td>\n",
              "      <td>0.890420</td>\n",
              "    </tr>\n",
              "    <tr>\n",
              "      <th>2</th>\n",
              "      <td>A journey of a thousand miles begins with a single step.</td>\n",
              "      <td>0.852311</td>\n",
              "    </tr>\n",
              "  </tbody>\n",
              "</table>\n",
              "</div>\n",
              "      <button class=\"colab-df-convert\" onclick=\"convertToInteractive('df-0b095593-bd2a-4a87-9046-4f5df604f976')\"\n",
              "              title=\"Convert this dataframe to an interactive table.\"\n",
              "              style=\"display:none;\">\n",
              "        \n",
              "  <svg xmlns=\"http://www.w3.org/2000/svg\" height=\"24px\"viewBox=\"0 0 24 24\"\n",
              "       width=\"24px\">\n",
              "    <path d=\"M0 0h24v24H0V0z\" fill=\"none\"/>\n",
              "    <path d=\"M18.56 5.44l.94 2.06.94-2.06 2.06-.94-2.06-.94-.94-2.06-.94 2.06-2.06.94zm-11 1L8.5 8.5l.94-2.06 2.06-.94-2.06-.94L8.5 2.5l-.94 2.06-2.06.94zm10 10l.94 2.06.94-2.06 2.06-.94-2.06-.94-.94-2.06-.94 2.06-2.06.94z\"/><path d=\"M17.41 7.96l-1.37-1.37c-.4-.4-.92-.59-1.43-.59-.52 0-1.04.2-1.43.59L10.3 9.45l-7.72 7.72c-.78.78-.78 2.05 0 2.83L4 21.41c.39.39.9.59 1.41.59.51 0 1.02-.2 1.41-.59l7.78-7.78 2.81-2.81c.8-.78.8-2.07 0-2.86zM5.41 20L4 18.59l7.72-7.72 1.47 1.35L5.41 20z\"/>\n",
              "  </svg>\n",
              "      </button>\n",
              "      \n",
              "  <style>\n",
              "    .colab-df-container {\n",
              "      display:flex;\n",
              "      flex-wrap:wrap;\n",
              "      gap: 12px;\n",
              "    }\n",
              "\n",
              "    .colab-df-convert {\n",
              "      background-color: #E8F0FE;\n",
              "      border: none;\n",
              "      border-radius: 50%;\n",
              "      cursor: pointer;\n",
              "      display: none;\n",
              "      fill: #1967D2;\n",
              "      height: 32px;\n",
              "      padding: 0 0 0 0;\n",
              "      width: 32px;\n",
              "    }\n",
              "\n",
              "    .colab-df-convert:hover {\n",
              "      background-color: #E2EBFA;\n",
              "      box-shadow: 0px 1px 2px rgba(60, 64, 67, 0.3), 0px 1px 3px 1px rgba(60, 64, 67, 0.15);\n",
              "      fill: #174EA6;\n",
              "    }\n",
              "\n",
              "    [theme=dark] .colab-df-convert {\n",
              "      background-color: #3B4455;\n",
              "      fill: #D2E3FC;\n",
              "    }\n",
              "\n",
              "    [theme=dark] .colab-df-convert:hover {\n",
              "      background-color: #434B5C;\n",
              "      box-shadow: 0px 1px 3px 1px rgba(0, 0, 0, 0.15);\n",
              "      filter: drop-shadow(0px 1px 2px rgba(0, 0, 0, 0.3));\n",
              "      fill: #FFFFFF;\n",
              "    }\n",
              "  </style>\n",
              "\n",
              "      <script>\n",
              "        const buttonEl =\n",
              "          document.querySelector('#df-0b095593-bd2a-4a87-9046-4f5df604f976 button.colab-df-convert');\n",
              "        buttonEl.style.display =\n",
              "          google.colab.kernel.accessAllowed ? 'block' : 'none';\n",
              "\n",
              "        async function convertToInteractive(key) {\n",
              "          const element = document.querySelector('#df-0b095593-bd2a-4a87-9046-4f5df604f976');\n",
              "          const dataTable =\n",
              "            await google.colab.kernel.invokeFunction('convertToInteractive',\n",
              "                                                     [key], {});\n",
              "          if (!dataTable) return;\n",
              "\n",
              "          const docLinkHtml = 'Like what you see? Visit the ' +\n",
              "            '<a target=\"_blank\" href=https://colab.research.google.com/notebooks/data_table.ipynb>data table notebook</a>'\n",
              "            + ' to learn more about interactive tables.';\n",
              "          element.innerHTML = '';\n",
              "          dataTable['output_type'] = 'display_data';\n",
              "          await google.colab.output.renderOutput(dataTable, element);\n",
              "          const docLink = document.createElement('div');\n",
              "          docLink.innerHTML = docLinkHtml;\n",
              "          element.appendChild(docLink);\n",
              "        }\n",
              "      </script>\n",
              "    </div>\n",
              "  </div>\n",
              "  "
            ]
          },
          "metadata": {},
          "execution_count": 23
        }
      ],
      "source": [
        "show_quotes(output_test)"
      ]
    },
    {
      "cell_type": "code",
      "execution_count": null,
      "metadata": {
        "colab": {
          "base_uri": "https://localhost:8080/",
          "height": 143
        },
        "id": "deuKlB9C0rdV",
        "outputId": "9ed583d0-4357-428f-fda2-fee80111b5b7"
      },
      "outputs": [
        {
          "output_type": "execute_result",
          "data": {
            "text/plain": [
              "                                                                                              Sentence  \\\n",
              "0                                                             'Don't you ever want to take a holiday?'   \n",
              "1                                                             'Don't pick up your mail often, do you?'   \n",
              "2  A holiday meant being back out in the real world, a place even people like Carter travelled to e...   \n",
              "\n",
              "   Probability  \n",
              "0     0.914927  \n",
              "1     0.853030  \n",
              "2     0.644996  "
            ],
            "text/html": [
              "\n",
              "  <div id=\"df-f9207465-a951-41b0-a15d-9bed9352d930\">\n",
              "    <div class=\"colab-df-container\">\n",
              "      <div>\n",
              "<style scoped>\n",
              "    .dataframe tbody tr th:only-of-type {\n",
              "        vertical-align: middle;\n",
              "    }\n",
              "\n",
              "    .dataframe tbody tr th {\n",
              "        vertical-align: top;\n",
              "    }\n",
              "\n",
              "    .dataframe thead th {\n",
              "        text-align: right;\n",
              "    }\n",
              "</style>\n",
              "<table border=\"1\" class=\"dataframe\">\n",
              "  <thead>\n",
              "    <tr style=\"text-align: right;\">\n",
              "      <th></th>\n",
              "      <th>Sentence</th>\n",
              "      <th>Probability</th>\n",
              "    </tr>\n",
              "  </thead>\n",
              "  <tbody>\n",
              "    <tr>\n",
              "      <th>0</th>\n",
              "      <td>'Don't you ever want to take a holiday?'</td>\n",
              "      <td>0.914927</td>\n",
              "    </tr>\n",
              "    <tr>\n",
              "      <th>1</th>\n",
              "      <td>'Don't pick up your mail often, do you?'</td>\n",
              "      <td>0.853030</td>\n",
              "    </tr>\n",
              "    <tr>\n",
              "      <th>2</th>\n",
              "      <td>A holiday meant being back out in the real world, a place even people like Carter travelled to e...</td>\n",
              "      <td>0.644996</td>\n",
              "    </tr>\n",
              "  </tbody>\n",
              "</table>\n",
              "</div>\n",
              "      <button class=\"colab-df-convert\" onclick=\"convertToInteractive('df-f9207465-a951-41b0-a15d-9bed9352d930')\"\n",
              "              title=\"Convert this dataframe to an interactive table.\"\n",
              "              style=\"display:none;\">\n",
              "        \n",
              "  <svg xmlns=\"http://www.w3.org/2000/svg\" height=\"24px\"viewBox=\"0 0 24 24\"\n",
              "       width=\"24px\">\n",
              "    <path d=\"M0 0h24v24H0V0z\" fill=\"none\"/>\n",
              "    <path d=\"M18.56 5.44l.94 2.06.94-2.06 2.06-.94-2.06-.94-.94-2.06-.94 2.06-2.06.94zm-11 1L8.5 8.5l.94-2.06 2.06-.94-2.06-.94L8.5 2.5l-.94 2.06-2.06.94zm10 10l.94 2.06.94-2.06 2.06-.94-2.06-.94-.94-2.06-.94 2.06-2.06.94z\"/><path d=\"M17.41 7.96l-1.37-1.37c-.4-.4-.92-.59-1.43-.59-.52 0-1.04.2-1.43.59L10.3 9.45l-7.72 7.72c-.78.78-.78 2.05 0 2.83L4 21.41c.39.39.9.59 1.41.59.51 0 1.02-.2 1.41-.59l7.78-7.78 2.81-2.81c.8-.78.8-2.07 0-2.86zM5.41 20L4 18.59l7.72-7.72 1.47 1.35L5.41 20z\"/>\n",
              "  </svg>\n",
              "      </button>\n",
              "      \n",
              "  <style>\n",
              "    .colab-df-container {\n",
              "      display:flex;\n",
              "      flex-wrap:wrap;\n",
              "      gap: 12px;\n",
              "    }\n",
              "\n",
              "    .colab-df-convert {\n",
              "      background-color: #E8F0FE;\n",
              "      border: none;\n",
              "      border-radius: 50%;\n",
              "      cursor: pointer;\n",
              "      display: none;\n",
              "      fill: #1967D2;\n",
              "      height: 32px;\n",
              "      padding: 0 0 0 0;\n",
              "      width: 32px;\n",
              "    }\n",
              "\n",
              "    .colab-df-convert:hover {\n",
              "      background-color: #E2EBFA;\n",
              "      box-shadow: 0px 1px 2px rgba(60, 64, 67, 0.3), 0px 1px 3px 1px rgba(60, 64, 67, 0.15);\n",
              "      fill: #174EA6;\n",
              "    }\n",
              "\n",
              "    [theme=dark] .colab-df-convert {\n",
              "      background-color: #3B4455;\n",
              "      fill: #D2E3FC;\n",
              "    }\n",
              "\n",
              "    [theme=dark] .colab-df-convert:hover {\n",
              "      background-color: #434B5C;\n",
              "      box-shadow: 0px 1px 3px 1px rgba(0, 0, 0, 0.15);\n",
              "      filter: drop-shadow(0px 1px 2px rgba(0, 0, 0, 0.3));\n",
              "      fill: #FFFFFF;\n",
              "    }\n",
              "  </style>\n",
              "\n",
              "      <script>\n",
              "        const buttonEl =\n",
              "          document.querySelector('#df-f9207465-a951-41b0-a15d-9bed9352d930 button.colab-df-convert');\n",
              "        buttonEl.style.display =\n",
              "          google.colab.kernel.accessAllowed ? 'block' : 'none';\n",
              "\n",
              "        async function convertToInteractive(key) {\n",
              "          const element = document.querySelector('#df-f9207465-a951-41b0-a15d-9bed9352d930');\n",
              "          const dataTable =\n",
              "            await google.colab.kernel.invokeFunction('convertToInteractive',\n",
              "                                                     [key], {});\n",
              "          if (!dataTable) return;\n",
              "\n",
              "          const docLinkHtml = 'Like what you see? Visit the ' +\n",
              "            '<a target=\"_blank\" href=https://colab.research.google.com/notebooks/data_table.ipynb>data table notebook</a>'\n",
              "            + ' to learn more about interactive tables.';\n",
              "          element.innerHTML = '';\n",
              "          dataTable['output_type'] = 'display_data';\n",
              "          await google.colab.output.renderOutput(dataTable, element);\n",
              "          const docLink = document.createElement('div');\n",
              "          docLink.innerHTML = docLinkHtml;\n",
              "          element.appendChild(docLink);\n",
              "        }\n",
              "      </script>\n",
              "    </div>\n",
              "  </div>\n",
              "  "
            ]
          },
          "metadata": {},
          "execution_count": 24
        }
      ],
      "source": [
        "show_quotes(output_carter)"
      ]
    },
    {
      "cell_type": "code",
      "execution_count": null,
      "metadata": {
        "colab": {
          "base_uri": "https://localhost:8080/",
          "height": 300
        },
        "id": "_gBH0ldl_nVP",
        "outputId": "e4d47b09-9dd2-4967-f612-ef853a65bfcf"
      },
      "outputs": [
        {
          "output_type": "execute_result",
          "data": {
            "text/plain": [
              "                                                                                              Sentence  \\\n",
              "0  I have no excuses.”  The chances are, when you begin to condemn yourself, the officer would want...   \n",
              "1  Won’t you please write me some more criticisms and tell me what I can do to improve my personality?   \n",
              "2                                        It hurts me to read these comments, but they are good for me.   \n",
              "3                                                                   I long for friends just as you do.   \n",
              "4                                                                        They have taught me a lesson.   \n",
              "5                                                                       I want to make people like me.   \n",
              "6                                                                                   Won’t you help me?   \n",
              "7                                                                      There can be no mistaking that.   \n",
              "\n",
              "   Probability  \n",
              "0     0.901039  \n",
              "1     0.889798  \n",
              "2     0.857148  \n",
              "3     0.830231  \n",
              "4     0.704018  \n",
              "5     0.661205  \n",
              "6     0.605660  \n",
              "7     0.599092  "
            ],
            "text/html": [
              "\n",
              "  <div id=\"df-31684e2a-f0a4-4c4d-9294-8bb3a735cae8\">\n",
              "    <div class=\"colab-df-container\">\n",
              "      <div>\n",
              "<style scoped>\n",
              "    .dataframe tbody tr th:only-of-type {\n",
              "        vertical-align: middle;\n",
              "    }\n",
              "\n",
              "    .dataframe tbody tr th {\n",
              "        vertical-align: top;\n",
              "    }\n",
              "\n",
              "    .dataframe thead th {\n",
              "        text-align: right;\n",
              "    }\n",
              "</style>\n",
              "<table border=\"1\" class=\"dataframe\">\n",
              "  <thead>\n",
              "    <tr style=\"text-align: right;\">\n",
              "      <th></th>\n",
              "      <th>Sentence</th>\n",
              "      <th>Probability</th>\n",
              "    </tr>\n",
              "  </thead>\n",
              "  <tbody>\n",
              "    <tr>\n",
              "      <th>0</th>\n",
              "      <td>I have no excuses.”  The chances are, when you begin to condemn yourself, the officer would want...</td>\n",
              "      <td>0.901039</td>\n",
              "    </tr>\n",
              "    <tr>\n",
              "      <th>1</th>\n",
              "      <td>Won’t you please write me some more criticisms and tell me what I can do to improve my personality?</td>\n",
              "      <td>0.889798</td>\n",
              "    </tr>\n",
              "    <tr>\n",
              "      <th>2</th>\n",
              "      <td>It hurts me to read these comments, but they are good for me.</td>\n",
              "      <td>0.857148</td>\n",
              "    </tr>\n",
              "    <tr>\n",
              "      <th>3</th>\n",
              "      <td>I long for friends just as you do.</td>\n",
              "      <td>0.830231</td>\n",
              "    </tr>\n",
              "    <tr>\n",
              "      <th>4</th>\n",
              "      <td>They have taught me a lesson.</td>\n",
              "      <td>0.704018</td>\n",
              "    </tr>\n",
              "    <tr>\n",
              "      <th>5</th>\n",
              "      <td>I want to make people like me.</td>\n",
              "      <td>0.661205</td>\n",
              "    </tr>\n",
              "    <tr>\n",
              "      <th>6</th>\n",
              "      <td>Won’t you help me?</td>\n",
              "      <td>0.605660</td>\n",
              "    </tr>\n",
              "    <tr>\n",
              "      <th>7</th>\n",
              "      <td>There can be no mistaking that.</td>\n",
              "      <td>0.599092</td>\n",
              "    </tr>\n",
              "  </tbody>\n",
              "</table>\n",
              "</div>\n",
              "      <button class=\"colab-df-convert\" onclick=\"convertToInteractive('df-31684e2a-f0a4-4c4d-9294-8bb3a735cae8')\"\n",
              "              title=\"Convert this dataframe to an interactive table.\"\n",
              "              style=\"display:none;\">\n",
              "        \n",
              "  <svg xmlns=\"http://www.w3.org/2000/svg\" height=\"24px\"viewBox=\"0 0 24 24\"\n",
              "       width=\"24px\">\n",
              "    <path d=\"M0 0h24v24H0V0z\" fill=\"none\"/>\n",
              "    <path d=\"M18.56 5.44l.94 2.06.94-2.06 2.06-.94-2.06-.94-.94-2.06-.94 2.06-2.06.94zm-11 1L8.5 8.5l.94-2.06 2.06-.94-2.06-.94L8.5 2.5l-.94 2.06-2.06.94zm10 10l.94 2.06.94-2.06 2.06-.94-2.06-.94-.94-2.06-.94 2.06-2.06.94z\"/><path d=\"M17.41 7.96l-1.37-1.37c-.4-.4-.92-.59-1.43-.59-.52 0-1.04.2-1.43.59L10.3 9.45l-7.72 7.72c-.78.78-.78 2.05 0 2.83L4 21.41c.39.39.9.59 1.41.59.51 0 1.02-.2 1.41-.59l7.78-7.78 2.81-2.81c.8-.78.8-2.07 0-2.86zM5.41 20L4 18.59l7.72-7.72 1.47 1.35L5.41 20z\"/>\n",
              "  </svg>\n",
              "      </button>\n",
              "      \n",
              "  <style>\n",
              "    .colab-df-container {\n",
              "      display:flex;\n",
              "      flex-wrap:wrap;\n",
              "      gap: 12px;\n",
              "    }\n",
              "\n",
              "    .colab-df-convert {\n",
              "      background-color: #E8F0FE;\n",
              "      border: none;\n",
              "      border-radius: 50%;\n",
              "      cursor: pointer;\n",
              "      display: none;\n",
              "      fill: #1967D2;\n",
              "      height: 32px;\n",
              "      padding: 0 0 0 0;\n",
              "      width: 32px;\n",
              "    }\n",
              "\n",
              "    .colab-df-convert:hover {\n",
              "      background-color: #E2EBFA;\n",
              "      box-shadow: 0px 1px 2px rgba(60, 64, 67, 0.3), 0px 1px 3px 1px rgba(60, 64, 67, 0.15);\n",
              "      fill: #174EA6;\n",
              "    }\n",
              "\n",
              "    [theme=dark] .colab-df-convert {\n",
              "      background-color: #3B4455;\n",
              "      fill: #D2E3FC;\n",
              "    }\n",
              "\n",
              "    [theme=dark] .colab-df-convert:hover {\n",
              "      background-color: #434B5C;\n",
              "      box-shadow: 0px 1px 3px 1px rgba(0, 0, 0, 0.15);\n",
              "      filter: drop-shadow(0px 1px 2px rgba(0, 0, 0, 0.3));\n",
              "      fill: #FFFFFF;\n",
              "    }\n",
              "  </style>\n",
              "\n",
              "      <script>\n",
              "        const buttonEl =\n",
              "          document.querySelector('#df-31684e2a-f0a4-4c4d-9294-8bb3a735cae8 button.colab-df-convert');\n",
              "        buttonEl.style.display =\n",
              "          google.colab.kernel.accessAllowed ? 'block' : 'none';\n",
              "\n",
              "        async function convertToInteractive(key) {\n",
              "          const element = document.querySelector('#df-31684e2a-f0a4-4c4d-9294-8bb3a735cae8');\n",
              "          const dataTable =\n",
              "            await google.colab.kernel.invokeFunction('convertToInteractive',\n",
              "                                                     [key], {});\n",
              "          if (!dataTable) return;\n",
              "\n",
              "          const docLinkHtml = 'Like what you see? Visit the ' +\n",
              "            '<a target=\"_blank\" href=https://colab.research.google.com/notebooks/data_table.ipynb>data table notebook</a>'\n",
              "            + ' to learn more about interactive tables.';\n",
              "          element.innerHTML = '';\n",
              "          dataTable['output_type'] = 'display_data';\n",
              "          await google.colab.output.renderOutput(dataTable, element);\n",
              "          const docLink = document.createElement('div');\n",
              "          docLink.innerHTML = docLinkHtml;\n",
              "          element.appendChild(docLink);\n",
              "        }\n",
              "      </script>\n",
              "    </div>\n",
              "  </div>\n",
              "  "
            ]
          },
          "metadata": {},
          "execution_count": 25
        }
      ],
      "source": [
        "show_quotes(output_carnegie)"
      ]
    },
    {
      "cell_type": "code",
      "execution_count": null,
      "metadata": {
        "id": "x-lP6Iu50wbb"
      },
      "outputs": [],
      "source": []
    },
    {
      "cell_type": "markdown",
      "metadata": {
        "id": "yP4-8cQSlb63"
      },
      "source": [
        "## Deploy API"
      ]
    },
    {
      "cell_type": "code",
      "execution_count": null,
      "metadata": {
        "id": "RlEdo1iOxpCc"
      },
      "outputs": [],
      "source": [
        "app = Flask(__name__)\n",
        "run_with_ngrok(app)"
      ]
    },
    {
      "cell_type": "code",
      "execution_count": null,
      "metadata": {
        "id": "LNkp47xhxrUs"
      },
      "outputs": [],
      "source": [
        "@app.route('/', methods=['GET', 'POST'])\n",
        "def home():\n",
        "  return jsonify(output_test)"
      ]
    },
    {
      "cell_type": "code",
      "execution_count": null,
      "metadata": {
        "id": "6Jhe0t1R_nnK"
      },
      "outputs": [],
      "source": [
        "@app.route('/api', methods=['POST'])\n",
        "def api():\n",
        "  if request.form.get('data'):\n",
        "    data = request.form['data']\n",
        "    threshold = 0.5\n",
        "\n",
        "    if request.form.get('threshold'):\n",
        "      th = request.form['threshold']\n",
        "\n",
        "      try:\n",
        "        th = float(th)\n",
        "        \n",
        "        if th >= 0.0 and th <= 1.0:\n",
        "          threshold = th\n",
        "\n",
        "      except ValueError:\n",
        "        pass\n",
        "\n",
        "    quotes = extract_quotes(data, threshold=threshold)\n",
        "    return quotes\n",
        "  else:\n",
        "    return 'Please include text in the POST request.', 401"
      ]
    },
    {
      "cell_type": "code",
      "execution_count": null,
      "metadata": {
        "colab": {
          "base_uri": "https://localhost:8080/"
        },
        "id": "R1PlFe1mxwMZ",
        "outputId": "413ae382-0020-41ab-d4ca-34a37cea6743"
      },
      "outputs": [
        {
          "metadata": {
            "tags": null
          },
          "name": "stdout",
          "output_type": "stream",
          "text": [
            " * Serving Flask app \"__main__\" (lazy loading)\n",
            " * Environment: production\n",
            "\u001b[31m   WARNING: This is a development server. Do not use it in a production deployment.\u001b[0m\n",
            "\u001b[2m   Use a production WSGI server instead.\u001b[0m\n",
            " * Debug mode: off\n"
          ]
        },
        {
          "metadata": {
            "tags": null
          },
          "name": "stderr",
          "output_type": "stream",
          "text": [
            "INFO:werkzeug: * Running on http://127.0.0.1:5000/ (Press CTRL+C to quit)\n"
          ]
        },
        {
          "metadata": {
            "tags": null
          },
          "name": "stdout",
          "output_type": "stream",
          "text": [
            " * Running on http://32ff-34-73-251-90.ngrok.io\n",
            " * Traffic stats available on http://127.0.0.1:4040\n"
          ]
        },
        {
          "output_type": "stream",
          "name": "stderr",
          "text": [
            "INFO:werkzeug:127.0.0.1 - - [25/Aug/2022 12:07:49] \"\u001b[37mPOST / HTTP/1.1\u001b[0m\" 200 -\n",
            "INFO:werkzeug:127.0.0.1 - - [25/Aug/2022 12:07:54] \"\u001b[37mPOST /api HTTP/1.1\u001b[0m\" 200 -\n",
            "INFO:werkzeug:127.0.0.1 - - [25/Aug/2022 12:11:44] \"\u001b[31m\u001b[1mPOST /api HTTP/1.1\u001b[0m\" 401 -\n",
            "INFO:werkzeug:127.0.0.1 - - [25/Aug/2022 12:12:00] \"\u001b[37mPOST /api HTTP/1.1\u001b[0m\" 200 -\n"
          ]
        }
      ],
      "source": [
        "if __name__ == '__main__':\n",
        "  app.run()"
      ]
    },
    {
      "cell_type": "code",
      "execution_count": null,
      "metadata": {
        "id": "QHI4RjvQDSZP"
      },
      "outputs": [],
      "source": []
    }
  ],
  "metadata": {
    "colab": {
      "collapsed_sections": [],
      "name": "quote_deploy2.ipynb",
      "provenance": []
    },
    "kernelspec": {
      "display_name": "Python 3",
      "name": "python3"
    },
    "language_info": {
      "name": "python"
    }
  },
  "nbformat": 4,
  "nbformat_minor": 0
}